{
 "cells": [
  {
   "cell_type": "code",
   "execution_count": 1,
   "metadata": {},
   "outputs": [],
   "source": [
    "import pandas as pd\n",
    "import numpy as np\n",
    "from sklearn.model_selection import train_test_split\n",
    "from tqdm.notebook import tqdm\n",
    "import matplotlib.pyplot as plt\n",
    "from sklearn.cluster import KMeans\n",
    "from sklearn.preprocessing import StandardScaler\n",
    "from joblib import dump, load"
   ]
  },
  {
   "cell_type": "code",
   "execution_count": 2,
   "metadata": {},
   "outputs": [],
   "source": [
    "target = \"Yield_Mg_ha\""
   ]
  },
  {
   "cell_type": "markdown",
   "metadata": {},
   "source": [
    "## 1. Traits"
   ]
  },
  {
   "cell_type": "code",
   "execution_count": 3,
   "metadata": {},
   "outputs": [
    {
     "name": "stderr",
     "output_type": "stream",
     "text": [
      "/Users/andreisl/opt/miniconda3/envs/main_env/lib/python3.7/site-packages/IPython/core/interactiveshell.py:3326: DtypeWarning: Columns (21,23,25,35,36,39,42,43,44,45,46) have mixed types.Specify dtype option on import or set low_memory=False.\n",
      "  exec(code_obj, self.user_global_ns, self.user_ns)\n"
     ]
    }
   ],
   "source": [
    "df_trait = pd.read_csv(\"./1_Training_Trait_Data_2014_2021_cleaned_phil_V3.csv\", sep=';')"
   ]
  },
  {
   "cell_type": "code",
   "execution_count": 4,
   "metadata": {},
   "outputs": [],
   "source": [
    "drop = (df_trait[\"YLD_DQ\"] != 'discard') & (df_trait[\"MST_DQ\"] != 'discard') & (df_trait[\"TWT_DQ\"] != 'discard')"
   ]
  },
  {
   "cell_type": "code",
   "execution_count": 5,
   "metadata": {},
   "outputs": [],
   "source": [
    "df_trait = pd.read_csv(\"./1_Training_Trait_Data_2014_2021.csv\")"
   ]
  },
  {
   "cell_type": "code",
   "execution_count": 6,
   "metadata": {},
   "outputs": [
    {
     "data": {
      "text/plain": [
       "((136012, 26), (136012,))"
      ]
     },
     "execution_count": 6,
     "metadata": {},
     "output_type": "execute_result"
    }
   ],
   "source": [
    "df_trait.shape, drop.shape"
   ]
  },
  {
   "cell_type": "code",
   "execution_count": 7,
   "metadata": {},
   "outputs": [
    {
     "data": {
      "text/html": [
       "<div>\n",
       "<style scoped>\n",
       "    .dataframe tbody tr th:only-of-type {\n",
       "        vertical-align: middle;\n",
       "    }\n",
       "\n",
       "    .dataframe tbody tr th {\n",
       "        vertical-align: top;\n",
       "    }\n",
       "\n",
       "    .dataframe thead th {\n",
       "        text-align: right;\n",
       "    }\n",
       "</style>\n",
       "<table border=\"1\" class=\"dataframe\">\n",
       "  <thead>\n",
       "    <tr style=\"text-align: right;\">\n",
       "      <th></th>\n",
       "      <th>Env</th>\n",
       "      <th>Year</th>\n",
       "      <th>Field_Location</th>\n",
       "      <th>Experiment</th>\n",
       "      <th>Replicate</th>\n",
       "      <th>Block</th>\n",
       "      <th>Plot</th>\n",
       "      <th>Range</th>\n",
       "      <th>Pass</th>\n",
       "      <th>Hybrid</th>\n",
       "      <th>Hybrid_orig_name</th>\n",
       "      <th>Hybrid_Parent1</th>\n",
       "      <th>Hybrid_Parent2</th>\n",
       "      <th>Plot_Area_ha</th>\n",
       "      <th>Date_Planted</th>\n",
       "      <th>Date_Harvested</th>\n",
       "      <th>Stand_Count_plants</th>\n",
       "      <th>Pollen_DAP_days</th>\n",
       "      <th>Silk_DAP_days</th>\n",
       "      <th>Plant_Height_cm</th>\n",
       "      <th>Ear_Height_cm</th>\n",
       "      <th>Root_Lodging_plants</th>\n",
       "      <th>Stalk_Lodging_plants</th>\n",
       "      <th>Yield_Mg_ha</th>\n",
       "      <th>Grain_Moisture</th>\n",
       "      <th>Twt_kg_m3</th>\n",
       "    </tr>\n",
       "  </thead>\n",
       "  <tbody>\n",
       "    <tr>\n",
       "      <th>0</th>\n",
       "      <td>DEH1_2014</td>\n",
       "      <td>2014</td>\n",
       "      <td>DEH1</td>\n",
       "      <td>G2F_2014_15</td>\n",
       "      <td>1</td>\n",
       "      <td>1</td>\n",
       "      <td>1</td>\n",
       "      <td>1.0</td>\n",
       "      <td>1.0</td>\n",
       "      <td>M0088/LH185</td>\n",
       "      <td>M0088/LH185</td>\n",
       "      <td>M0088</td>\n",
       "      <td>LH185</td>\n",
       "      <td>0.000716</td>\n",
       "      <td>5/5/14</td>\n",
       "      <td>9/29/14</td>\n",
       "      <td>56.0</td>\n",
       "      <td>63.0</td>\n",
       "      <td>67.0</td>\n",
       "      <td>213.0</td>\n",
       "      <td>79.0</td>\n",
       "      <td>0.0</td>\n",
       "      <td>0.0</td>\n",
       "      <td>5.721725</td>\n",
       "      <td>20.8</td>\n",
       "      <td>706.664693</td>\n",
       "    </tr>\n",
       "    <tr>\n",
       "      <th>1</th>\n",
       "      <td>DEH1_2014</td>\n",
       "      <td>2014</td>\n",
       "      <td>DEH1</td>\n",
       "      <td>G2F_2014_15</td>\n",
       "      <td>1</td>\n",
       "      <td>1</td>\n",
       "      <td>2</td>\n",
       "      <td>1.0</td>\n",
       "      <td>2.0</td>\n",
       "      <td>M0143/LH185</td>\n",
       "      <td>M0143/LH185</td>\n",
       "      <td>M0143</td>\n",
       "      <td>LH185</td>\n",
       "      <td>0.000716</td>\n",
       "      <td>5/5/14</td>\n",
       "      <td>9/29/14</td>\n",
       "      <td>54.0</td>\n",
       "      <td>61.0</td>\n",
       "      <td>63.0</td>\n",
       "      <td>286.0</td>\n",
       "      <td>172.0</td>\n",
       "      <td>0.0</td>\n",
       "      <td>0.0</td>\n",
       "      <td>11.338246</td>\n",
       "      <td>25.8</td>\n",
       "      <td>693.792841</td>\n",
       "    </tr>\n",
       "    <tr>\n",
       "      <th>2</th>\n",
       "      <td>DEH1_2014</td>\n",
       "      <td>2014</td>\n",
       "      <td>DEH1</td>\n",
       "      <td>G2F_2014_15</td>\n",
       "      <td>1</td>\n",
       "      <td>1</td>\n",
       "      <td>3</td>\n",
       "      <td>1.0</td>\n",
       "      <td>3.0</td>\n",
       "      <td>M0003/LH185</td>\n",
       "      <td>M0003/LH185</td>\n",
       "      <td>M0003</td>\n",
       "      <td>LH185</td>\n",
       "      <td>0.000716</td>\n",
       "      <td>5/5/14</td>\n",
       "      <td>9/29/14</td>\n",
       "      <td>60.0</td>\n",
       "      <td>63.0</td>\n",
       "      <td>65.0</td>\n",
       "      <td>239.0</td>\n",
       "      <td>92.0</td>\n",
       "      <td>0.0</td>\n",
       "      <td>4.0</td>\n",
       "      <td>6.540810</td>\n",
       "      <td>20.8</td>\n",
       "      <td>698.941582</td>\n",
       "    </tr>\n",
       "    <tr>\n",
       "      <th>3</th>\n",
       "      <td>DEH1_2014</td>\n",
       "      <td>2014</td>\n",
       "      <td>DEH1</td>\n",
       "      <td>G2F_2014_15</td>\n",
       "      <td>1</td>\n",
       "      <td>1</td>\n",
       "      <td>4</td>\n",
       "      <td>1.0</td>\n",
       "      <td>4.0</td>\n",
       "      <td>M0035/LH185</td>\n",
       "      <td>M0035/LH185</td>\n",
       "      <td>M0035</td>\n",
       "      <td>LH185</td>\n",
       "      <td>0.000716</td>\n",
       "      <td>5/5/14</td>\n",
       "      <td>9/29/14</td>\n",
       "      <td>59.0</td>\n",
       "      <td>61.0</td>\n",
       "      <td>63.0</td>\n",
       "      <td>242.0</td>\n",
       "      <td>118.0</td>\n",
       "      <td>0.0</td>\n",
       "      <td>0.0</td>\n",
       "      <td>10.366857</td>\n",
       "      <td>23.7</td>\n",
       "      <td>711.813434</td>\n",
       "    </tr>\n",
       "    <tr>\n",
       "      <th>4</th>\n",
       "      <td>DEH1_2014</td>\n",
       "      <td>2014</td>\n",
       "      <td>DEH1</td>\n",
       "      <td>G2F_2014_15</td>\n",
       "      <td>1</td>\n",
       "      <td>1</td>\n",
       "      <td>5</td>\n",
       "      <td>1.0</td>\n",
       "      <td>5.0</td>\n",
       "      <td>M0052/LH185</td>\n",
       "      <td>M0052/LH185</td>\n",
       "      <td>M0052</td>\n",
       "      <td>LH185</td>\n",
       "      <td>0.000716</td>\n",
       "      <td>5/5/14</td>\n",
       "      <td>9/29/14</td>\n",
       "      <td>58.0</td>\n",
       "      <td>63.0</td>\n",
       "      <td>65.0</td>\n",
       "      <td>211.0</td>\n",
       "      <td>92.0</td>\n",
       "      <td>0.0</td>\n",
       "      <td>0.0</td>\n",
       "      <td>10.908814</td>\n",
       "      <td>19.4</td>\n",
       "      <td>743.993065</td>\n",
       "    </tr>\n",
       "  </tbody>\n",
       "</table>\n",
       "</div>"
      ],
      "text/plain": [
       "         Env  Year Field_Location   Experiment  Replicate  Block  Plot  Range  \\\n",
       "0  DEH1_2014  2014           DEH1  G2F_2014_15          1      1     1    1.0   \n",
       "1  DEH1_2014  2014           DEH1  G2F_2014_15          1      1     2    1.0   \n",
       "2  DEH1_2014  2014           DEH1  G2F_2014_15          1      1     3    1.0   \n",
       "3  DEH1_2014  2014           DEH1  G2F_2014_15          1      1     4    1.0   \n",
       "4  DEH1_2014  2014           DEH1  G2F_2014_15          1      1     5    1.0   \n",
       "\n",
       "   Pass       Hybrid Hybrid_orig_name Hybrid_Parent1 Hybrid_Parent2  \\\n",
       "0   1.0  M0088/LH185      M0088/LH185          M0088          LH185   \n",
       "1   2.0  M0143/LH185      M0143/LH185          M0143          LH185   \n",
       "2   3.0  M0003/LH185      M0003/LH185          M0003          LH185   \n",
       "3   4.0  M0035/LH185      M0035/LH185          M0035          LH185   \n",
       "4   5.0  M0052/LH185      M0052/LH185          M0052          LH185   \n",
       "\n",
       "   Plot_Area_ha Date_Planted Date_Harvested  Stand_Count_plants  \\\n",
       "0      0.000716       5/5/14        9/29/14                56.0   \n",
       "1      0.000716       5/5/14        9/29/14                54.0   \n",
       "2      0.000716       5/5/14        9/29/14                60.0   \n",
       "3      0.000716       5/5/14        9/29/14                59.0   \n",
       "4      0.000716       5/5/14        9/29/14                58.0   \n",
       "\n",
       "   Pollen_DAP_days  Silk_DAP_days  Plant_Height_cm  Ear_Height_cm  \\\n",
       "0             63.0           67.0            213.0           79.0   \n",
       "1             61.0           63.0            286.0          172.0   \n",
       "2             63.0           65.0            239.0           92.0   \n",
       "3             61.0           63.0            242.0          118.0   \n",
       "4             63.0           65.0            211.0           92.0   \n",
       "\n",
       "   Root_Lodging_plants  Stalk_Lodging_plants  Yield_Mg_ha  Grain_Moisture  \\\n",
       "0                  0.0                   0.0     5.721725            20.8   \n",
       "1                  0.0                   0.0    11.338246            25.8   \n",
       "2                  0.0                   4.0     6.540810            20.8   \n",
       "3                  0.0                   0.0    10.366857            23.7   \n",
       "4                  0.0                   0.0    10.908814            19.4   \n",
       "\n",
       "    Twt_kg_m3  \n",
       "0  706.664693  \n",
       "1  693.792841  \n",
       "2  698.941582  \n",
       "3  711.813434  \n",
       "4  743.993065  "
      ]
     },
     "metadata": {},
     "output_type": "display_data"
    }
   ],
   "source": [
    "with pd.option_context(\"display.max_columns\", None):\n",
    "    display(df_trait.head())"
   ]
  },
  {
   "cell_type": "code",
   "execution_count": 8,
   "metadata": {},
   "outputs": [
    {
     "data": {
      "text/plain": [
       "(136012, 26)"
      ]
     },
     "execution_count": 8,
     "metadata": {},
     "output_type": "execute_result"
    }
   ],
   "source": [
    "df_trait.shape"
   ]
  },
  {
   "cell_type": "code",
   "execution_count": 9,
   "metadata": {},
   "outputs": [],
   "source": [
    "df_trait.loc[df_trait[\"Hybrid_Parent1\"].isna(), \"Hybrid_Parent1\"] = df_trait.loc[df_trait[\"Hybrid_Parent1\"].isna()][\"Hybrid\"]\n",
    "df_trait.loc[df_trait[\"Hybrid_Parent2\"].isna(), \"Hybrid_Parent2\"] = df_trait.loc[df_trait[\"Hybrid_Parent2\"].isna()][\"Hybrid\"]"
   ]
  },
  {
   "cell_type": "code",
   "execution_count": null,
   "metadata": {},
   "outputs": [],
   "source": []
  },
  {
   "cell_type": "code",
   "execution_count": 10,
   "metadata": {},
   "outputs": [],
   "source": [
    "trait_cols = [\n",
    "    \"Env\",\n",
    "    \"Year\",\n",
    "    \"Field_Location\",\n",
    "    \"Hybrid_Parent1\",\n",
    "    \"Hybrid_Parent2\", \n",
    "    \"Date_Planted\",\n",
    "    \"Date_Harvested\",\n",
    "    \"Stand_Count_plants\",\n",
    "    \"Pollen_DAP_days\",\n",
    "    \"Silk_DAP_days\",\n",
    "    \"Plant_Height_cm\",\n",
    "    \"Ear_Height_cm\",\n",
    "    \"Yield_Mg_ha\",\n",
    "]"
   ]
  },
  {
   "cell_type": "code",
   "execution_count": 11,
   "metadata": {},
   "outputs": [],
   "source": [
    "df_trait[\"Date_Planted\"] = pd.to_datetime(df_trait[\"Date_Planted\"]).map(lambda t: t.dayofyear)\n",
    "df_trait[\"Date_Harvested\"] = pd.to_datetime(df_trait[\"Date_Harvested\"]).map(lambda t: t.dayofyear)"
   ]
  },
  {
   "cell_type": "code",
   "execution_count": 12,
   "metadata": {},
   "outputs": [],
   "source": [
    "df_trait[\"Date_Planted\"] = df_trait[\"Date_Planted\"].fillna(df_trait[\"Date_Planted\"].value_counts().index[0])\n",
    "df_trait[\"Date_Harvested\"] = df_trait[\"Date_Harvested\"].fillna(df_trait[\"Date_Harvested\"].value_counts().index[0])"
   ]
  },
  {
   "cell_type": "code",
   "execution_count": 13,
   "metadata": {},
   "outputs": [
    {
     "data": {
      "text/plain": [
       "7845"
      ]
     },
     "execution_count": 13,
     "metadata": {},
     "output_type": "execute_result"
    }
   ],
   "source": [
    "df_trait[\"Yield_Mg_ha\"].isna().sum()"
   ]
  },
  {
   "cell_type": "code",
   "execution_count": 14,
   "metadata": {},
   "outputs": [],
   "source": [
    "df_trait = df_trait.loc[~df_trait[\"Yield_Mg_ha\"].isna()].reset_index(drop=True)"
   ]
  },
  {
   "cell_type": "code",
   "execution_count": 15,
   "metadata": {},
   "outputs": [
    {
     "name": "stderr",
     "output_type": "stream",
     "text": [
      "/Users/andreisl/opt/miniconda3/envs/main_env/lib/python3.7/site-packages/numpy/lib/histograms.py:839: RuntimeWarning: invalid value encountered in greater_equal\n",
      "  keep = (tmp_a >= first_edge)\n",
      "/Users/andreisl/opt/miniconda3/envs/main_env/lib/python3.7/site-packages/numpy/lib/histograms.py:840: RuntimeWarning: invalid value encountered in less_equal\n",
      "  keep &= (tmp_a <= last_edge)\n"
     ]
    },
    {
     "data": {
      "image/png": "[encoded data removed]",
      "text/plain": [
       "<Figure size 720x360 with 1 Axes>"
      ]
     },
     "metadata": {
      "needs_background": "light"
     },
     "output_type": "display_data"
    }
   ],
   "source": [
    "plt.figure(figsize=(10, 5))\n",
    "plt.hist(df_trait[\"Stand_Count_plants\"], bins=40)\n",
    "plt.show()"
   ]
  },
  {
   "cell_type": "code",
   "execution_count": 16,
   "metadata": {},
   "outputs": [],
   "source": [
    "df_trait[\"Stand_Count_plants\"] = df_trait[\"Stand_Count_plants\"].fillna(df_trait[\"Stand_Count_plants\"].median())"
   ]
  },
  {
   "cell_type": "code",
   "execution_count": 17,
   "metadata": {},
   "outputs": [
    {
     "data": {
      "image/png": "[encoded data removed]",
      "text/plain": [
       "<Figure size 720x360 with 1 Axes>"
      ]
     },
     "metadata": {
      "needs_background": "light"
     },
     "output_type": "display_data"
    }
   ],
   "source": [
    "plt.figure(figsize=(10, 5))\n",
    "plt.hist(df_trait[\"Pollen_DAP_days\"], bins=np.arange(105))\n",
    "plt.show()"
   ]
  },
  {
   "cell_type": "code",
   "execution_count": 18,
   "metadata": {},
   "outputs": [],
   "source": [
    "df_trait[\"Pollen_DAP_days\"] = df_trait[\"Pollen_DAP_days\"].fillna(df_trait[\"Pollen_DAP_days\"].median())"
   ]
  },
  {
   "cell_type": "code",
   "execution_count": 19,
   "metadata": {},
   "outputs": [
    {
     "data": {
      "image/png": "[encoded data removed]",
      "text/plain": [
       "<Figure size 720x360 with 1 Axes>"
      ]
     },
     "metadata": {
      "needs_background": "light"
     },
     "output_type": "display_data"
    }
   ],
   "source": [
    "plt.figure(figsize=(10, 5))\n",
    "plt.hist(df_trait[\"Silk_DAP_days\"], bins=np.arange(105))\n",
    "plt.show()"
   ]
  },
  {
   "cell_type": "code",
   "execution_count": 20,
   "metadata": {},
   "outputs": [],
   "source": [
    "df_trait[\"Silk_DAP_days\"] = df_trait[\"Silk_DAP_days\"].fillna(df_trait[\"Silk_DAP_days\"].median())"
   ]
  },
  {
   "cell_type": "code",
   "execution_count": 21,
   "metadata": {},
   "outputs": [
    {
     "name": "stderr",
     "output_type": "stream",
     "text": [
      "/Users/andreisl/opt/miniconda3/envs/main_env/lib/python3.7/site-packages/numpy/lib/histograms.py:839: RuntimeWarning: invalid value encountered in greater_equal\n",
      "  keep = (tmp_a >= first_edge)\n",
      "/Users/andreisl/opt/miniconda3/envs/main_env/lib/python3.7/site-packages/numpy/lib/histograms.py:840: RuntimeWarning: invalid value encountered in less_equal\n",
      "  keep &= (tmp_a <= last_edge)\n"
     ]
    },
    {
     "data": {
      "image/png": "[encoded data removed]",
      "text/plain": [
       "<Figure size 720x360 with 1 Axes>"
      ]
     },
     "metadata": {
      "needs_background": "light"
     },
     "output_type": "display_data"
    }
   ],
   "source": [
    "plt.figure(figsize=(10, 5))\n",
    "plt.hist(df_trait[\"Plant_Height_cm\"], bins=40)\n",
    "plt.show()"
   ]
  },
  {
   "cell_type": "code",
   "execution_count": 22,
   "metadata": {},
   "outputs": [],
   "source": [
    "df_trait[\"Plant_Height_cm\"] = df_trait[\"Plant_Height_cm\"].fillna(df_trait[\"Plant_Height_cm\"].median())"
   ]
  },
  {
   "cell_type": "code",
   "execution_count": 23,
   "metadata": {},
   "outputs": [
    {
     "name": "stderr",
     "output_type": "stream",
     "text": [
      "/Users/andreisl/opt/miniconda3/envs/main_env/lib/python3.7/site-packages/numpy/lib/histograms.py:839: RuntimeWarning: invalid value encountered in greater_equal\n",
      "  keep = (tmp_a >= first_edge)\n",
      "/Users/andreisl/opt/miniconda3/envs/main_env/lib/python3.7/site-packages/numpy/lib/histograms.py:840: RuntimeWarning: invalid value encountered in less_equal\n",
      "  keep &= (tmp_a <= last_edge)\n"
     ]
    },
    {
     "data": {
      "image/png": "[encoded data removed]",
      "text/plain": [
       "<Figure size 720x360 with 1 Axes>"
      ]
     },
     "metadata": {
      "needs_background": "light"
     },
     "output_type": "display_data"
    }
   ],
   "source": [
    "plt.figure(figsize=(10, 5))\n",
    "plt.hist(df_trait[\"Ear_Height_cm\"], bins=40)\n",
    "plt.show()"
   ]
  },
  {
   "cell_type": "code",
   "execution_count": 24,
   "metadata": {},
   "outputs": [],
   "source": [
    "df_trait[\"Ear_Height_cm\"] = df_trait[\"Ear_Height_cm\"].fillna(df_trait[\"Ear_Height_cm\"].median())"
   ]
  },
  {
   "cell_type": "code",
   "execution_count": 25,
   "metadata": {},
   "outputs": [
    {
     "data": {
      "text/plain": [
       "Env                   0\n",
       "Year                  0\n",
       "Field_Location        0\n",
       "Hybrid_Parent1        0\n",
       "Hybrid_Parent2        0\n",
       "Date_Planted          0\n",
       "Date_Harvested        0\n",
       "Stand_Count_plants    0\n",
       "Pollen_DAP_days       0\n",
       "Silk_DAP_days         0\n",
       "Plant_Height_cm       0\n",
       "Ear_Height_cm         0\n",
       "Yield_Mg_ha           0\n",
       "dtype: int64"
      ]
     },
     "execution_count": 25,
     "metadata": {},
     "output_type": "execute_result"
    }
   ],
   "source": [
    "df_trait[trait_cols].isna().sum()"
   ]
  },
  {
   "cell_type": "code",
   "execution_count": 26,
   "metadata": {},
   "outputs": [],
   "source": [
    "df_trait[\"not_discard\"] = drop"
   ]
  },
  {
   "cell_type": "code",
   "execution_count": 27,
   "metadata": {},
   "outputs": [],
   "source": [
    "df_trait.to_csv(\"./1_trait_cleaned.csv\", index=False)"
   ]
  },
  {
   "cell_type": "markdown",
   "metadata": {},
   "source": [
    "## 2. Meta"
   ]
  },
  {
   "cell_type": "code",
   "execution_count": 28,
   "metadata": {},
   "outputs": [
    {
     "data": {
      "text/html": [
       "<div>\n",
       "<style scoped>\n",
       "    .dataframe tbody tr th:only-of-type {\n",
       "        vertical-align: middle;\n",
       "    }\n",
       "\n",
       "    .dataframe tbody tr th {\n",
       "        vertical-align: top;\n",
       "    }\n",
       "\n",
       "    .dataframe thead th {\n",
       "        text-align: right;\n",
       "    }\n",
       "</style>\n",
       "<table border=\"1\" class=\"dataframe\">\n",
       "  <thead>\n",
       "    <tr style=\"text-align: right;\">\n",
       "      <th></th>\n",
       "      <th>ï»¿Year</th>\n",
       "      <th>Env</th>\n",
       "      <th>onsite weather</th>\n",
       "      <th>Experiment_Code</th>\n",
       "      <th>Treatment</th>\n",
       "      <th>weather notes</th>\n",
       "      <th>Irrigation data</th>\n",
       "      <th>City</th>\n",
       "      <th>State</th>\n",
       "      <th>Farm</th>\n",
       "      <th>...</th>\n",
       "      <th>Date_Planted</th>\n",
       "      <th>avg_Yield_Mg_ha</th>\n",
       "      <th>avg_yield_bu/a</th>\n",
       "      <th>Issue/comment_#1</th>\n",
       "      <th>Issue/comment_#2</th>\n",
       "      <th>Issue/comment_#3</th>\n",
       "      <th>Issue/comment_#4</th>\n",
       "      <th>Issue/comment_#5</th>\n",
       "      <th>Issue/comment_#6</th>\n",
       "      <th>Comments</th>\n",
       "    </tr>\n",
       "  </thead>\n",
       "  <tbody>\n",
       "    <tr>\n",
       "      <th>0</th>\n",
       "      <td>2016</td>\n",
       "      <td>ARH1_2016</td>\n",
       "      <td>8658</td>\n",
       "      <td>ARH1</td>\n",
       "      <td>Irrigated</td>\n",
       "      <td>NaN</td>\n",
       "      <td>Irrigation unknown amt</td>\n",
       "      <td>Marianna</td>\n",
       "      <td>Arkansas</td>\n",
       "      <td>NaN</td>\n",
       "      <td>...</td>\n",
       "      <td>07/04/2016</td>\n",
       "      <td>6,50</td>\n",
       "      <td>96,67</td>\n",
       "      <td>Large pigweed in field at harvest August 30 an...</td>\n",
       "      <td>NaN</td>\n",
       "      <td>NaN</td>\n",
       "      <td>NaN</td>\n",
       "      <td>NaN</td>\n",
       "      <td>NaN</td>\n",
       "      <td>NaN</td>\n",
       "    </tr>\n",
       "  </tbody>\n",
       "</table>\n",
       "<p>1 rows × 44 columns</p>\n",
       "</div>"
      ],
      "text/plain": [
       "   ï»¿Year        Env onsite weather Experiment_Code  Treatment weather notes  \\\n",
       "0     2016  ARH1_2016           8658            ARH1  Irrigated           NaN   \n",
       "\n",
       "          Irrigation data      City     State Farm  ... Date_Planted  \\\n",
       "0  Irrigation unknown amt  Marianna  Arkansas  NaN  ...   07/04/2016   \n",
       "\n",
       "  avg_Yield_Mg_ha avg_yield_bu/a  \\\n",
       "0            6,50          96,67   \n",
       "\n",
       "                                    Issue/comment_#1 Issue/comment_#2  \\\n",
       "0  Large pigweed in field at harvest August 30 an...              NaN   \n",
       "\n",
       "  Issue/comment_#3 Issue/comment_#4 Issue/comment_#5 Issue/comment_#6 Comments  \n",
       "0              NaN              NaN              NaN              NaN      NaN  \n",
       "\n",
       "[1 rows x 44 columns]"
      ]
     },
     "execution_count": 28,
     "metadata": {},
     "output_type": "execute_result"
    }
   ],
   "source": [
    "# df_meta = pd.read_csv(\"./2_Training_Meta_Data_2014_2021.csv\", encoding = \"ISO-8859-1\")\n",
    "df_meta = pd.read_csv(\"./2_Training_Meta_Data_2014_2021_V3.csv\", encoding = \"ISO-8859-1\", sep=';')\n",
    "\n",
    "df_meta.iloc[:1]"
   ]
  },
  {
   "cell_type": "code",
   "execution_count": 29,
   "metadata": {},
   "outputs": [
    {
     "data": {
      "text/plain": [
       "(217, 44)"
      ]
     },
     "execution_count": 29,
     "metadata": {},
     "output_type": "execute_result"
    }
   ],
   "source": [
    "# df_meta = df_meta.loc[~df_meta[\"Env\"].isna()]\n",
    "df_meta.shape"
   ]
  },
  {
   "cell_type": "code",
   "execution_count": 30,
   "metadata": {},
   "outputs": [
    {
     "data": {
      "text/plain": [
       "Latitude_of_Field_Corner_#1 (lower left)      52\n",
       "Longitude_of_Field_Corner_#1 (lower left)     52\n",
       "Latitude_of_Field_Corner_#2 (lower right)     54\n",
       "Longitude_of_Field_Corner_#2 (lower right)    54\n",
       "Latitude_of_Field_Corner_#3 (upper right)     54\n",
       "Longitude_of_Field_Corner_#3 (upper right)    54\n",
       "Latitude_of_Field_Corner_#4 (upper left)      53\n",
       "Longitude_of_Field_Corner_#4 (upper left)     53\n",
       "dtype: int64"
      ]
     },
     "execution_count": 30,
     "metadata": {},
     "output_type": "execute_result"
    }
   ],
   "source": [
    "df_meta[[\n",
    "    'Latitude_of_Field_Corner_#1 (lower left)',\n",
    "    'Longitude_of_Field_Corner_#1 (lower left)',\n",
    "    'Latitude_of_Field_Corner_#2 (lower right)',\n",
    "    'Longitude_of_Field_Corner_#2 (lower right)',\n",
    "    'Latitude_of_Field_Corner_#3 (upper right)',\n",
    "    'Longitude_of_Field_Corner_#3 (upper right)',\n",
    "    'Latitude_of_Field_Corner_#4 (upper left)',\n",
    "    'Longitude_of_Field_Corner_#4 (upper left)'\n",
    "]].isna().sum()"
   ]
  },
  {
   "cell_type": "code",
   "execution_count": 31,
   "metadata": {},
   "outputs": [],
   "source": [
    "df_meta = df_meta.rename({'ï»¿Year': 'Year'}, axis=1)\n",
    "# "
   ]
  },
  {
   "cell_type": "code",
   "execution_count": 32,
   "metadata": {},
   "outputs": [],
   "source": [
    "meta_cols = [\n",
    "    \"Env\",\n",
    "    \"Year\",\n",
    "    \"Previous_Crop\",\n",
    "    \"City\",\n",
    "    \"Treatment\",\n",
    "#     \"Pre-plant_tillage_method(s)\",\n",
    "#     \"Irrigated\",\n",
    "]"
   ]
  },
  {
   "cell_type": "code",
   "execution_count": 33,
   "metadata": {},
   "outputs": [
    {
     "data": {
      "text/plain": [
       "Standard          169\n",
       "Irrigated          39\n",
       "Disease trial       4\n",
       "Late Planting       3\n",
       "Early Planting      1\n",
       "Late Stressed       1\n",
       "Name: Treatment, dtype: int64"
      ]
     },
     "execution_count": 33,
     "metadata": {},
     "output_type": "execute_result"
    }
   ],
   "source": [
    "df_meta[\"Treatment\"].value_counts()"
   ]
  },
  {
   "cell_type": "code",
   "execution_count": 34,
   "metadata": {},
   "outputs": [
    {
     "data": {
      "text/html": [
       "<div>\n",
       "<style scoped>\n",
       "    .dataframe tbody tr th:only-of-type {\n",
       "        vertical-align: middle;\n",
       "    }\n",
       "\n",
       "    .dataframe tbody tr th {\n",
       "        vertical-align: top;\n",
       "    }\n",
       "\n",
       "    .dataframe thead th {\n",
       "        text-align: right;\n",
       "    }\n",
       "</style>\n",
       "<table border=\"1\" class=\"dataframe\">\n",
       "  <thead>\n",
       "    <tr style=\"text-align: right;\">\n",
       "      <th></th>\n",
       "      <th>Env</th>\n",
       "      <th>Year</th>\n",
       "      <th>Previous_Crop</th>\n",
       "      <th>City</th>\n",
       "      <th>Treatment</th>\n",
       "    </tr>\n",
       "  </thead>\n",
       "  <tbody>\n",
       "    <tr>\n",
       "      <th>0</th>\n",
       "      <td>ARH1_2016</td>\n",
       "      <td>2016</td>\n",
       "      <td>corn</td>\n",
       "      <td>Marianna</td>\n",
       "      <td>Irrigated</td>\n",
       "    </tr>\n",
       "    <tr>\n",
       "      <th>1</th>\n",
       "      <td>ARH1_2017</td>\n",
       "      <td>2017</td>\n",
       "      <td>corn</td>\n",
       "      <td>Marianna</td>\n",
       "      <td>Irrigated</td>\n",
       "    </tr>\n",
       "    <tr>\n",
       "      <th>2</th>\n",
       "      <td>ARH1_2018</td>\n",
       "      <td>2018</td>\n",
       "      <td>corn</td>\n",
       "      <td>Marianna</td>\n",
       "      <td>Irrigated</td>\n",
       "    </tr>\n",
       "    <tr>\n",
       "      <th>3</th>\n",
       "      <td>ARH2_2016</td>\n",
       "      <td>2016</td>\n",
       "      <td>soybean</td>\n",
       "      <td>Jonesboro</td>\n",
       "      <td>Standard</td>\n",
       "    </tr>\n",
       "    <tr>\n",
       "      <th>4</th>\n",
       "      <td>ARH2_2017</td>\n",
       "      <td>2017</td>\n",
       "      <td>corn</td>\n",
       "      <td>Keiser</td>\n",
       "      <td>Irrigated</td>\n",
       "    </tr>\n",
       "    <tr>\n",
       "      <th>...</th>\n",
       "      <td>...</td>\n",
       "      <td>...</td>\n",
       "      <td>...</td>\n",
       "      <td>...</td>\n",
       "      <td>...</td>\n",
       "    </tr>\n",
       "    <tr>\n",
       "      <th>212</th>\n",
       "      <td>WIH2_2019</td>\n",
       "      <td>2019</td>\n",
       "      <td>soybean</td>\n",
       "      <td>Arlington</td>\n",
       "      <td>Standard</td>\n",
       "    </tr>\n",
       "    <tr>\n",
       "      <th>213</th>\n",
       "      <td>WIH2_2020</td>\n",
       "      <td>2020</td>\n",
       "      <td>soybean</td>\n",
       "      <td>Arlington</td>\n",
       "      <td>Standard</td>\n",
       "    </tr>\n",
       "    <tr>\n",
       "      <th>214</th>\n",
       "      <td>WIH2_2021</td>\n",
       "      <td>2021</td>\n",
       "      <td>soybean</td>\n",
       "      <td>Arlington</td>\n",
       "      <td>Standard</td>\n",
       "    </tr>\n",
       "    <tr>\n",
       "      <th>215</th>\n",
       "      <td>WIH3_2020</td>\n",
       "      <td>2020</td>\n",
       "      <td>NaN</td>\n",
       "      <td>Hancock</td>\n",
       "      <td>Irrigated</td>\n",
       "    </tr>\n",
       "    <tr>\n",
       "      <th>216</th>\n",
       "      <td>WIH3_2021</td>\n",
       "      <td>2021</td>\n",
       "      <td>corn</td>\n",
       "      <td>Hancock</td>\n",
       "      <td>Irrigated</td>\n",
       "    </tr>\n",
       "  </tbody>\n",
       "</table>\n",
       "<p>217 rows × 5 columns</p>\n",
       "</div>"
      ],
      "text/plain": [
       "           Env  Year Previous_Crop       City  Treatment\n",
       "0    ARH1_2016  2016          corn   Marianna  Irrigated\n",
       "1    ARH1_2017  2017          corn   Marianna  Irrigated\n",
       "2    ARH1_2018  2018          corn   Marianna  Irrigated\n",
       "3    ARH2_2016  2016       soybean  Jonesboro   Standard\n",
       "4    ARH2_2017  2017          corn     Keiser  Irrigated\n",
       "..         ...   ...           ...        ...        ...\n",
       "212  WIH2_2019  2019       soybean  Arlington   Standard\n",
       "213  WIH2_2020  2020       soybean  Arlington   Standard\n",
       "214  WIH2_2021  2021       soybean  Arlington   Standard\n",
       "215  WIH3_2020  2020           NaN    Hancock  Irrigated\n",
       "216  WIH3_2021  2021          corn    Hancock  Irrigated\n",
       "\n",
       "[217 rows x 5 columns]"
      ]
     },
     "execution_count": 34,
     "metadata": {},
     "output_type": "execute_result"
    }
   ],
   "source": [
    "df_meta[meta_cols]"
   ]
  },
  {
   "cell_type": "code",
   "execution_count": 35,
   "metadata": {},
   "outputs": [
    {
     "data": {
      "text/plain": [
       "Standard          169\n",
       "Irrigated          39\n",
       "Disease trial       4\n",
       "Late Planting       3\n",
       "Early Planting      1\n",
       "Late Stressed       1\n",
       "Name: Treatment, dtype: int64"
      ]
     },
     "execution_count": 35,
     "metadata": {},
     "output_type": "execute_result"
    }
   ],
   "source": [
    "df_meta[\"Treatment\"].value_counts()"
   ]
  },
  {
   "cell_type": "code",
   "execution_count": 36,
   "metadata": {},
   "outputs": [
    {
     "data": {
      "text/plain": [
       "field cultivator                                  20\n",
       "Conventional                                       7\n",
       "conventional                                       6\n",
       "Field cultivator                                   6\n",
       "fall chisel plow, spring field cultivator          5\n",
       "                                                  ..\n",
       "Fall rip one pass tool, spring field cultivate     1\n",
       "Chisel - field cultivator                          1\n",
       "chisel, field cultivate                            1\n",
       "Chisel plow and field cultivator                   1\n",
       "Disc, Dynadrive                                    1\n",
       "Name: Pre-plant_tillage_method(s), Length: 101, dtype: int64"
      ]
     },
     "execution_count": 36,
     "metadata": {},
     "output_type": "execute_result"
    }
   ],
   "source": [
    "df_meta[\"Pre-plant_tillage_method(s)\"].value_counts()"
   ]
  },
  {
   "cell_type": "code",
   "execution_count": 37,
   "metadata": {
    "scrolled": true
   },
   "outputs": [],
   "source": [
    "df_meta[\"Previous_Crop\"] = df_meta[\"Previous_Crop\"].fillna(\"soybean\")\n",
    "df_meta[\"City\"] = df_meta[\"City\"].fillna(\"unknown\")"
   ]
  },
  {
   "cell_type": "code",
   "execution_count": 38,
   "metadata": {},
   "outputs": [
    {
     "data": {
      "text/plain": [
       "Env              0\n",
       "Year             0\n",
       "Previous_Crop    0\n",
       "City             0\n",
       "Treatment        0\n",
       "dtype: int64"
      ]
     },
     "execution_count": 38,
     "metadata": {},
     "output_type": "execute_result"
    }
   ],
   "source": [
    "df_meta[meta_cols].isna().sum()"
   ]
  },
  {
   "cell_type": "code",
   "execution_count": 39,
   "metadata": {},
   "outputs": [],
   "source": [
    "df_meta[meta_cols].to_csv(\"./2_meta_cleaned.csv\", index=False)"
   ]
  },
  {
   "cell_type": "markdown",
   "metadata": {},
   "source": [
    "## 3. Soil"
   ]
  },
  {
   "cell_type": "code",
   "execution_count": 40,
   "metadata": {},
   "outputs": [
    {
     "data": {
      "text/html": [
       "<div>\n",
       "<style scoped>\n",
       "    .dataframe tbody tr th:only-of-type {\n",
       "        vertical-align: middle;\n",
       "    }\n",
       "\n",
       "    .dataframe tbody tr th {\n",
       "        vertical-align: top;\n",
       "    }\n",
       "\n",
       "    .dataframe thead th {\n",
       "        text-align: right;\n",
       "    }\n",
       "</style>\n",
       "<table border=\"1\" class=\"dataframe\">\n",
       "  <thead>\n",
       "    <tr style=\"text-align: right;\">\n",
       "      <th></th>\n",
       "      <th>Year</th>\n",
       "      <th>Env</th>\n",
       "      <th>LabID</th>\n",
       "      <th>Date Received</th>\n",
       "      <th>Date Reported</th>\n",
       "      <th>E Depth</th>\n",
       "      <th>1:1 Soil pH</th>\n",
       "      <th>WDRF Buffer pH</th>\n",
       "      <th>1:1 S Salts mmho/cm</th>\n",
       "      <th>Texture No</th>\n",
       "      <th>Organic Matter LOI %</th>\n",
       "      <th>Nitrate-N ppm N</th>\n",
       "      <th>lbs N/A</th>\n",
       "      <th>Potassium ppm K</th>\n",
       "      <th>Sulfate-S ppm S</th>\n",
       "      <th>Calcium ppm Ca</th>\n",
       "      <th>Magnesium ppm Mg</th>\n",
       "      <th>Sodium ppm Na</th>\n",
       "      <th>CEC/Sum of Cations me/100g</th>\n",
       "      <th>%H Sat</th>\n",
       "      <th>%K Sat</th>\n",
       "      <th>%Ca Sat</th>\n",
       "      <th>%Mg Sat</th>\n",
       "      <th>%Na Sat</th>\n",
       "      <th>Mehlich P-III ppm P</th>\n",
       "      <th>% Sand</th>\n",
       "      <th>% Silt</th>\n",
       "      <th>% Clay</th>\n",
       "      <th>Texture</th>\n",
       "      <th>BpH</th>\n",
       "      <th>Zinc ppm Zn</th>\n",
       "      <th>Iron ppm Fe</th>\n",
       "      <th>Manganese ppm Mn</th>\n",
       "      <th>Copper ppm Cu</th>\n",
       "      <th>Boron ppm B</th>\n",
       "      <th>Comments</th>\n",
       "    </tr>\n",
       "  </thead>\n",
       "  <tbody>\n",
       "    <tr>\n",
       "      <th>0</th>\n",
       "      <td>2021</td>\n",
       "      <td>NEH3_2021</td>\n",
       "      <td>Ward Laboratories Inc</td>\n",
       "      <td>08/31/2021</td>\n",
       "      <td>09/02/2021</td>\n",
       "      <td>12.0</td>\n",
       "      <td>5.8</td>\n",
       "      <td>6.8</td>\n",
       "      <td>0.26</td>\n",
       "      <td>2.0</td>\n",
       "      <td>3.0</td>\n",
       "      <td>28.9</td>\n",
       "      <td>104.0</td>\n",
       "      <td>147.0</td>\n",
       "      <td>4.70</td>\n",
       "      <td>1391.0</td>\n",
       "      <td>223.0</td>\n",
       "      <td>13.0</td>\n",
       "      <td>11.2</td>\n",
       "      <td>17.0</td>\n",
       "      <td>3.00</td>\n",
       "      <td>62.00</td>\n",
       "      <td>17.00</td>\n",
       "      <td>1.00</td>\n",
       "      <td>42.0</td>\n",
       "      <td>25.0</td>\n",
       "      <td>53.0</td>\n",
       "      <td>22.0</td>\n",
       "      <td>Silt Loam</td>\n",
       "      <td>NaN</td>\n",
       "      <td>NaN</td>\n",
       "      <td>NaN</td>\n",
       "      <td>NaN</td>\n",
       "      <td>NaN</td>\n",
       "      <td>NaN</td>\n",
       "      <td>Results referent to NEH2_2021 and NEH3_2021</td>\n",
       "    </tr>\n",
       "    <tr>\n",
       "      <th>1</th>\n",
       "      <td>2020</td>\n",
       "      <td>MOH1_1_2020</td>\n",
       "      <td>Ward Laboratories Inc</td>\n",
       "      <td>9/16/20</td>\n",
       "      <td>9/18/20</td>\n",
       "      <td>12.0</td>\n",
       "      <td>6.1</td>\n",
       "      <td>6.9</td>\n",
       "      <td>0.36</td>\n",
       "      <td>2.0</td>\n",
       "      <td>2.4</td>\n",
       "      <td>54.9</td>\n",
       "      <td>198.0</td>\n",
       "      <td>100.0</td>\n",
       "      <td>4.75</td>\n",
       "      <td>1750.0</td>\n",
       "      <td>208.0</td>\n",
       "      <td>21.0</td>\n",
       "      <td>11.7</td>\n",
       "      <td>7.0</td>\n",
       "      <td>2.00</td>\n",
       "      <td>75.00</td>\n",
       "      <td>15.00</td>\n",
       "      <td>1.00</td>\n",
       "      <td>21.0</td>\n",
       "      <td>19.0</td>\n",
       "      <td>67.0</td>\n",
       "      <td>14.0</td>\n",
       "      <td>Silt Loam</td>\n",
       "      <td>NaN</td>\n",
       "      <td>NaN</td>\n",
       "      <td>NaN</td>\n",
       "      <td>NaN</td>\n",
       "      <td>NaN</td>\n",
       "      <td>NaN</td>\n",
       "      <td>NaN</td>\n",
       "    </tr>\n",
       "    <tr>\n",
       "      <th>2</th>\n",
       "      <td>2016</td>\n",
       "      <td>ARH1_2016</td>\n",
       "      <td>Local Lab</td>\n",
       "      <td>NaN</td>\n",
       "      <td>4/8/2016</td>\n",
       "      <td>12.0</td>\n",
       "      <td>NaN</td>\n",
       "      <td>NaN</td>\n",
       "      <td>NaN</td>\n",
       "      <td>2.0</td>\n",
       "      <td>NaN</td>\n",
       "      <td>NaN</td>\n",
       "      <td>NaN</td>\n",
       "      <td>123.0</td>\n",
       "      <td>7.00</td>\n",
       "      <td>1676.0</td>\n",
       "      <td>389.0</td>\n",
       "      <td>NaN</td>\n",
       "      <td>NaN</td>\n",
       "      <td>NaN</td>\n",
       "      <td>2.25</td>\n",
       "      <td>59.66</td>\n",
       "      <td>23.08</td>\n",
       "      <td>0.77</td>\n",
       "      <td>40.0</td>\n",
       "      <td>NaN</td>\n",
       "      <td>NaN</td>\n",
       "      <td>NaN</td>\n",
       "      <td>Silt Loam-Silty Clay Loam</td>\n",
       "      <td>NaN</td>\n",
       "      <td>3.6</td>\n",
       "      <td>174.0</td>\n",
       "      <td>161.0</td>\n",
       "      <td>1.9</td>\n",
       "      <td>0.3</td>\n",
       "      <td>NaN</td>\n",
       "    </tr>\n",
       "    <tr>\n",
       "      <th>3</th>\n",
       "      <td>2016</td>\n",
       "      <td>ARH2_2016</td>\n",
       "      <td>Local Lab</td>\n",
       "      <td>NaN</td>\n",
       "      <td>4/12/2016</td>\n",
       "      <td>12.0</td>\n",
       "      <td>NaN</td>\n",
       "      <td>NaN</td>\n",
       "      <td>NaN</td>\n",
       "      <td>2.0</td>\n",
       "      <td>NaN</td>\n",
       "      <td>NaN</td>\n",
       "      <td>NaN</td>\n",
       "      <td>76.0</td>\n",
       "      <td>11.00</td>\n",
       "      <td>817.0</td>\n",
       "      <td>214.0</td>\n",
       "      <td>NaN</td>\n",
       "      <td>NaN</td>\n",
       "      <td>NaN</td>\n",
       "      <td>2.30</td>\n",
       "      <td>47.30</td>\n",
       "      <td>20.70</td>\n",
       "      <td>0.80</td>\n",
       "      <td>26.0</td>\n",
       "      <td>NaN</td>\n",
       "      <td>NaN</td>\n",
       "      <td>NaN</td>\n",
       "      <td>Silt Loam</td>\n",
       "      <td>NaN</td>\n",
       "      <td>1.9</td>\n",
       "      <td>131.0</td>\n",
       "      <td>248.0</td>\n",
       "      <td>1.5</td>\n",
       "      <td>0.0</td>\n",
       "      <td>NaN</td>\n",
       "    </tr>\n",
       "    <tr>\n",
       "      <th>4</th>\n",
       "      <td>2016</td>\n",
       "      <td>DEH1_2016</td>\n",
       "      <td>Ward Laboratories Inc</td>\n",
       "      <td>5/19/2016</td>\n",
       "      <td>5/23/2016</td>\n",
       "      <td>12.0</td>\n",
       "      <td>5.7</td>\n",
       "      <td>6.4</td>\n",
       "      <td>0.37</td>\n",
       "      <td>2.0</td>\n",
       "      <td>2.3</td>\n",
       "      <td>34.4</td>\n",
       "      <td>124.0</td>\n",
       "      <td>174.0</td>\n",
       "      <td>19.00</td>\n",
       "      <td>495.0</td>\n",
       "      <td>110.0</td>\n",
       "      <td>9.0</td>\n",
       "      <td>9.4</td>\n",
       "      <td>59.0</td>\n",
       "      <td>5.00</td>\n",
       "      <td>26.00</td>\n",
       "      <td>10.00</td>\n",
       "      <td>0.00</td>\n",
       "      <td>157.0</td>\n",
       "      <td>75.0</td>\n",
       "      <td>13.0</td>\n",
       "      <td>12.0</td>\n",
       "      <td>Sandy Loam</td>\n",
       "      <td>NaN</td>\n",
       "      <td>NaN</td>\n",
       "      <td>NaN</td>\n",
       "      <td>NaN</td>\n",
       "      <td>NaN</td>\n",
       "      <td>NaN</td>\n",
       "      <td>NaN</td>\n",
       "    </tr>\n",
       "  </tbody>\n",
       "</table>\n",
       "</div>"
      ],
      "text/plain": [
       "   Year          Env                  LabID Date Received Date Reported  \\\n",
       "0  2021    NEH3_2021  Ward Laboratories Inc    08/31/2021    09/02/2021   \n",
       "1  2020  MOH1_1_2020  Ward Laboratories Inc       9/16/20       9/18/20   \n",
       "2  2016    ARH1_2016              Local Lab           NaN      4/8/2016   \n",
       "3  2016    ARH2_2016              Local Lab           NaN     4/12/2016   \n",
       "4  2016    DEH1_2016  Ward Laboratories Inc     5/19/2016     5/23/2016   \n",
       "\n",
       "   E Depth  1:1 Soil pH  WDRF Buffer pH  1:1 S Salts mmho/cm  Texture No  \\\n",
       "0     12.0          5.8             6.8                 0.26         2.0   \n",
       "1     12.0          6.1             6.9                 0.36         2.0   \n",
       "2     12.0          NaN             NaN                  NaN         2.0   \n",
       "3     12.0          NaN             NaN                  NaN         2.0   \n",
       "4     12.0          5.7             6.4                 0.37         2.0   \n",
       "\n",
       "   Organic Matter LOI %  Nitrate-N ppm N  lbs N/A  Potassium ppm K  \\\n",
       "0                   3.0             28.9    104.0            147.0   \n",
       "1                   2.4             54.9    198.0            100.0   \n",
       "2                   NaN              NaN      NaN            123.0   \n",
       "3                   NaN              NaN      NaN             76.0   \n",
       "4                   2.3             34.4    124.0            174.0   \n",
       "\n",
       "   Sulfate-S ppm S  Calcium ppm Ca  Magnesium ppm Mg  Sodium ppm Na  \\\n",
       "0             4.70          1391.0             223.0           13.0   \n",
       "1             4.75          1750.0             208.0           21.0   \n",
       "2             7.00          1676.0             389.0            NaN   \n",
       "3            11.00           817.0             214.0            NaN   \n",
       "4            19.00           495.0             110.0            9.0   \n",
       "\n",
       "   CEC/Sum of Cations me/100g  %H Sat  %K Sat  %Ca Sat  %Mg Sat  %Na Sat  \\\n",
       "0                        11.2    17.0    3.00    62.00    17.00     1.00   \n",
       "1                        11.7     7.0    2.00    75.00    15.00     1.00   \n",
       "2                         NaN     NaN    2.25    59.66    23.08     0.77   \n",
       "3                         NaN     NaN    2.30    47.30    20.70     0.80   \n",
       "4                         9.4    59.0    5.00    26.00    10.00     0.00   \n",
       "\n",
       "   Mehlich P-III ppm P  % Sand  % Silt  % Clay                    Texture  \\\n",
       "0                 42.0    25.0    53.0    22.0                  Silt Loam   \n",
       "1                 21.0    19.0    67.0    14.0                  Silt Loam   \n",
       "2                 40.0     NaN     NaN     NaN  Silt Loam-Silty Clay Loam   \n",
       "3                 26.0     NaN     NaN     NaN                  Silt Loam   \n",
       "4                157.0    75.0    13.0    12.0                 Sandy Loam   \n",
       "\n",
       "   BpH  Zinc ppm Zn  Iron ppm Fe  Manganese ppm Mn  Copper ppm Cu  \\\n",
       "0  NaN          NaN          NaN               NaN            NaN   \n",
       "1  NaN          NaN          NaN               NaN            NaN   \n",
       "2  NaN          3.6        174.0             161.0            1.9   \n",
       "3  NaN          1.9        131.0             248.0            1.5   \n",
       "4  NaN          NaN          NaN               NaN            NaN   \n",
       "\n",
       "   Boron ppm B                                     Comments  \n",
       "0          NaN  Results referent to NEH2_2021 and NEH3_2021  \n",
       "1          NaN                                          NaN  \n",
       "2          0.3                                          NaN  \n",
       "3          0.0                                          NaN  \n",
       "4          NaN                                          NaN  "
      ]
     },
     "metadata": {},
     "output_type": "display_data"
    }
   ],
   "source": [
    "df_soil = pd.read_csv(\"./3_Training_Soil_Data_2015_2021.csv\")\n",
    "with pd.option_context(\"display.max_columns\", None):\n",
    "    display(df_soil.head())"
   ]
  },
  {
   "cell_type": "code",
   "execution_count": 41,
   "metadata": {
    "scrolled": true
   },
   "outputs": [
    {
     "data": {
      "text/plain": [
       "Year                            0\n",
       "Env                             0\n",
       "LabID                           0\n",
       "Date Received                  17\n",
       "Date Reported                   0\n",
       "E Depth                        15\n",
       "1:1 Soil pH                     2\n",
       "WDRF Buffer pH                 19\n",
       "1:1 S Salts mmho/cm            19\n",
       "Texture No                     15\n",
       "Organic Matter LOI %            8\n",
       "Nitrate-N ppm N                17\n",
       "lbs N/A                        19\n",
       "Potassium ppm K                 0\n",
       "Sulfate-S ppm S                19\n",
       "Calcium ppm Ca                 15\n",
       "Magnesium ppm Mg               15\n",
       "Sodium ppm Na                  17\n",
       "CEC/Sum of Cations me/100g     19\n",
       "%H Sat                         19\n",
       "%K Sat                         17\n",
       "%Ca Sat                        17\n",
       "%Mg Sat                        17\n",
       "%Na Sat                        17\n",
       "Mehlich P-III ppm P             0\n",
       "% Sand                         23\n",
       "% Silt                         23\n",
       "% Clay                         23\n",
       "Texture                        21\n",
       "BpH                           130\n",
       "Zinc ppm Zn                   138\n",
       "Iron ppm Fe                   138\n",
       "Manganese ppm Mn              138\n",
       "Copper ppm Cu                 138\n",
       "Boron ppm B                   138\n",
       "Comments                      136\n",
       "dtype: int64"
      ]
     },
     "execution_count": 41,
     "metadata": {},
     "output_type": "execute_result"
    }
   ],
   "source": [
    "df_soil.isna().sum()"
   ]
  },
  {
   "cell_type": "code",
   "execution_count": 42,
   "metadata": {},
   "outputs": [],
   "source": [
    "df_soil = df_soil.merge(df_trait[\"Env\"].drop_duplicates(), on=\"Env\", how=\"outer\")"
   ]
  },
  {
   "cell_type": "code",
   "execution_count": 43,
   "metadata": {},
   "outputs": [],
   "source": [
    "df_soil[\"Year\"] = df_soil[\"Env\"].map(lambda s: int(s.split('_')[-1]))"
   ]
  },
  {
   "cell_type": "code",
   "execution_count": 44,
   "metadata": {},
   "outputs": [],
   "source": [
    "soil_cols = [\n",
    "    'Year',\n",
    "    'Env',\n",
    "    'E Depth',\n",
    "    '1:1 Soil pH',\n",
    "    'WDRF Buffer pH',\n",
    "    '1:1 S Salts mmho/cm',\n",
    "    'Texture No',\n",
    "    'Organic Matter LOI %',\n",
    "    'Nitrate-N ppm N',\n",
    "    'lbs N/A',\n",
    "    'Potassium ppm K',\n",
    "    'Sulfate-S ppm S',\n",
    "    'Calcium ppm Ca',\n",
    "    'Magnesium ppm Mg',\n",
    "    'Sodium ppm Na',\n",
    "    'CEC/Sum of Cations me/100g',\n",
    "    '%H Sat',\n",
    "    '%K Sat',\n",
    "    '%Ca Sat',\n",
    "    '%Mg Sat',\n",
    "    '%Na Sat',\n",
    "    'Mehlich P-III ppm P',\n",
    "    '% Sand',\n",
    "    '% Silt',\n",
    "    '% Clay',\n",
    "    'Texture',\n",
    "]"
   ]
  },
  {
   "cell_type": "code",
   "execution_count": 45,
   "metadata": {},
   "outputs": [],
   "source": [
    "df_soil[\"Env_pure\"] = df_soil[\"Env\"].map(lambda s: s.split('_')[0])"
   ]
  },
  {
   "cell_type": "code",
   "execution_count": 46,
   "metadata": {
    "scrolled": true
   },
   "outputs": [
    {
     "data": {
      "text/plain": [
       "Year                           0\n",
       "Env                            0\n",
       "LabID                         76\n",
       "Date Received                 93\n",
       "Date Reported                 76\n",
       "E Depth                       91\n",
       "1:1 Soil pH                   78\n",
       "WDRF Buffer pH                95\n",
       "1:1 S Salts mmho/cm           95\n",
       "Texture No                    91\n",
       "Organic Matter LOI %          84\n",
       "Nitrate-N ppm N               93\n",
       "lbs N/A                       95\n",
       "Potassium ppm K               76\n",
       "Sulfate-S ppm S               95\n",
       "Calcium ppm Ca                91\n",
       "Magnesium ppm Mg              91\n",
       "Sodium ppm Na                 93\n",
       "CEC/Sum of Cations me/100g    95\n",
       "%H Sat                        95\n",
       "%K Sat                        93\n",
       "%Ca Sat                       93\n",
       "%Mg Sat                       93\n",
       "%Na Sat                       93\n",
       "Mehlich P-III ppm P           76\n",
       "% Sand                        99\n",
       "% Silt                        99\n",
       "% Clay                        99\n",
       "Texture                       97\n",
       "dtype: int64"
      ]
     },
     "execution_count": 46,
     "metadata": {},
     "output_type": "execute_result"
    }
   ],
   "source": [
    "df_soil.iloc[:, :-8].isna().sum(axis=0)"
   ]
  },
  {
   "cell_type": "code",
   "execution_count": 47,
   "metadata": {},
   "outputs": [],
   "source": [
    "# we try to fill the missing values by the same env from other years"
   ]
  },
  {
   "cell_type": "code",
   "execution_count": 48,
   "metadata": {
    "scrolled": true
   },
   "outputs": [
    {
     "data": {
      "text/plain": [
       "ILH1          2\n",
       "TXH2          3\n",
       "NYH1          2\n",
       "IAH3          3\n",
       "IAH4          3\n",
       "GAH1          4\n",
       "ONH2          1\n",
       "NEH2          2\n",
       "NCH1          5\n",
       "NEH1          3\n",
       "DEH1          5\n",
       "ARH2          0\n",
       "TXH1          3\n",
       "ARH1          0\n",
       "NEH3          2\n",
       "MNH1          5\n",
       "KSH1          0\n",
       "INH1          5\n",
       "IAH2          3\n",
       "IAH1          4\n",
       "OHH1          4\n",
       "TXH1-Early    0\n",
       "NEH4          1\n",
       "TXH1-Late     0\n",
       "ONH1          2\n",
       "TXH1-Dry      0\n",
       "MOH2          0\n",
       "WIH1          6\n",
       "NYH2          6\n",
       "MOH1          7\n",
       "IAH1c         0\n",
       "IAH1b         0\n",
       "IAH1a         0\n",
       "WIH2          6\n",
       "SDH1          0\n",
       "NYH3          5\n",
       "SCH1          3\n",
       "TXH4          0\n",
       "COH1          1\n",
       "Name: Env_pure, dtype: int64"
      ]
     },
     "execution_count": 48,
     "metadata": {},
     "output_type": "execute_result"
    }
   ],
   "source": [
    "# NB\n",
    "env_na_counts = df_soil[\"Env_pure\"].value_counts()[df_soil.loc[df_soil.iloc[:, :-8].isna().any(axis=1)][\"Env_pure\"].value_counts().index] - df_soil.loc[df_soil.iloc[:, :-8].isna().any(axis=1)][\"Env_pure\"].value_counts()\n",
    "env_na_counts"
   ]
  },
  {
   "cell_type": "code",
   "execution_count": 49,
   "metadata": {},
   "outputs": [
    {
     "data": {
      "text/plain": [
       "10505"
      ]
     },
     "execution_count": 49,
     "metadata": {},
     "output_type": "execute_result"
    }
   ],
   "source": [
    "zero_envs = set(env_na_counts[env_na_counts == 0].index)\n",
    "df_trait[\"Env\"].map(lambda s: s.split('_')[0] in zero_envs).sum()"
   ]
  },
  {
   "cell_type": "code",
   "execution_count": 50,
   "metadata": {},
   "outputs": [],
   "source": [
    "medians = df_soil.groupby(\"Env_pure\")[soil_cols[2:-1]].median()\n",
    "medians[\"Texture\"] = df_soil.groupby(\"Env_pure\").apply(\n",
    "    lambda df: df[\"Texture\"].value_counts().index[0] if not df[\"Texture\"].isna().all() else np.nan\n",
    ")"
   ]
  },
  {
   "cell_type": "code",
   "execution_count": 51,
   "metadata": {},
   "outputs": [],
   "source": [
    "for colname in soil_cols[2:]:\n",
    "    df_soil[colname] = df_soil.apply(\n",
    "        lambda row: row[colname] if (isinstance(row[colname], str) or not np.isnan(row[colname])) else medians.loc[row[\"Env_pure\"], colname],\n",
    "        axis=1\n",
    "    )"
   ]
  },
  {
   "cell_type": "code",
   "execution_count": 52,
   "metadata": {
    "scrolled": true
   },
   "outputs": [
    {
     "data": {
      "text/plain": [
       "Year                           0\n",
       "Env                            0\n",
       "E Depth                       16\n",
       "1:1 Soil pH                   16\n",
       "WDRF Buffer pH                22\n",
       "1:1 S Salts mmho/cm           22\n",
       "Texture No                    16\n",
       "Organic Matter LOI %          16\n",
       "Nitrate-N ppm N               22\n",
       "lbs N/A                       22\n",
       "Potassium ppm K               10\n",
       "Sulfate-S ppm S               16\n",
       "Calcium ppm Ca                16\n",
       "Magnesium ppm Mg              16\n",
       "Sodium ppm Na                 22\n",
       "CEC/Sum of Cations me/100g    22\n",
       "%H Sat                        22\n",
       "%K Sat                        16\n",
       "%Ca Sat                       16\n",
       "%Mg Sat                       16\n",
       "%Na Sat                       16\n",
       "Mehlich P-III ppm P           10\n",
       "% Sand                        22\n",
       "% Silt                        22\n",
       "% Clay                        22\n",
       "Texture                       16\n",
       "dtype: int64"
      ]
     },
     "execution_count": 52,
     "metadata": {},
     "output_type": "execute_result"
    }
   ],
   "source": [
    "df_soil[soil_cols].isna().sum()"
   ]
  },
  {
   "cell_type": "code",
   "execution_count": 53,
   "metadata": {},
   "outputs": [],
   "source": [
    "df_soil[soil_cols].to_csv(\"./3_soil_cleaned.csv\", index=False)"
   ]
  },
  {
   "cell_type": "code",
   "execution_count": null,
   "metadata": {},
   "outputs": [],
   "source": []
  },
  {
   "cell_type": "markdown",
   "metadata": {},
   "source": [
    "## 4. Weather"
   ]
  },
  {
   "cell_type": "code",
   "execution_count": 99,
   "metadata": {},
   "outputs": [],
   "source": [
    "df_weather = pd.read_csv(\"./4_Training_Weather_Data_2014_2021.csv\")"
   ]
  },
  {
   "cell_type": "code",
   "execution_count": 100,
   "metadata": {},
   "outputs": [],
   "source": [
    "df_weather[\"Date\"] = pd.to_datetime(df_weather[\"Date\"].astype(str)).map(lambda s: s.dayofyear)"
   ]
  },
  {
   "cell_type": "code",
   "execution_count": 101,
   "metadata": {},
   "outputs": [],
   "source": [
    "# let's average by week starting from planting date (or by equal periods)"
   ]
  },
  {
   "cell_type": "code",
   "execution_count": 102,
   "metadata": {
    "scrolled": true
   },
   "outputs": [
    {
     "data": {
      "text/plain": [
       "1.0     3\n",
       "8.0     2\n",
       "10.0    1\n",
       "22.0    1\n",
       "19.0    1\n",
       "dtype: int64"
      ]
     },
     "execution_count": 102,
     "metadata": {},
     "output_type": "execute_result"
    }
   ],
   "source": [
    "# check the envs where there were more than 1 planting date (there's only a few of them)\n",
    "datecol = \"Date_Planted\"\n",
    "xx = df_trait.groupby(\"Env\").apply(lambda df: df[datecol].value_counts().shape[0])\n",
    "df_trait.loc[df_trait[\"Env\"].isin(xx[xx > 1].index)].groupby([\"Env\"]).apply(\n",
    "    lambda df: df[datecol].max() - df[datecol].min()\n",
    ").value_counts()\n",
    "# left is diff in days between earliest and latest date for env, right is how many fields with this diff"
   ]
  },
  {
   "cell_type": "code",
   "execution_count": 103,
   "metadata": {
    "scrolled": true
   },
   "outputs": [
    {
     "data": {
      "text/plain": [
       "1.0     40\n",
       "2.0      9\n",
       "7.0      5\n",
       "3.0      3\n",
       "4.0      2\n",
       "23.0     2\n",
       "8.0      1\n",
       "36.0     1\n",
       "6.0      1\n",
       "5.0      1\n",
       "13.0     1\n",
       "11.0     1\n",
       "16.0     1\n",
       "32.0     1\n",
       "9.0      1\n",
       "dtype: int64"
      ]
     },
     "execution_count": 103,
     "metadata": {},
     "output_type": "execute_result"
    }
   ],
   "source": [
    "# same for harvesting date\n",
    "datecol = \"Date_Harvested\"\n",
    "xx = df_trait.groupby(\"Env\").apply(lambda df: df[datecol].value_counts().shape[0])\n",
    "df_trait.loc[df_trait[\"Env\"].isin(xx[xx > 1].index)].groupby([\"Env\"]).apply(\n",
    "    lambda df: df[datecol].max() - df[datecol].min()\n",
    ").value_counts()\n",
    "# left is diff in days between earliest and latest date for env, right is how many fields with this diff\n",
    "# still looks ok"
   ]
  },
  {
   "cell_type": "code",
   "execution_count": 104,
   "metadata": {},
   "outputs": [],
   "source": [
    "env_to_planting_date = df_trait.groupby(\"Env\")[\"Date_Planted\"].min()\n",
    "env_to_harvesting_date = df_trait.groupby(\"Env\")[\"Date_Harvested\"].max()"
   ]
  },
  {
   "cell_type": "code",
   "execution_count": 105,
   "metadata": {},
   "outputs": [],
   "source": [
    "df_weather[\"Date_Planted\"] = df_weather[\"Env\"].map(env_to_planting_date)\n",
    "df_weather[\"Date_Harvested\"] = df_weather[\"Env\"].map(env_to_harvesting_date)"
   ]
  },
  {
   "cell_type": "code",
   "execution_count": 106,
   "metadata": {},
   "outputs": [],
   "source": [
    "df_weather[\"Days_from_planting\"] = df_weather[\"Date\"] - df_weather[\"Date_Planted\"]"
   ]
  },
  {
   "cell_type": "code",
   "execution_count": 107,
   "metadata": {},
   "outputs": [
    {
     "data": {
      "image/png": "[encoded data removed]",
      "text/plain": [
       "<Figure size 720x288 with 1 Axes>"
      ]
     },
     "metadata": {
      "needs_background": "light"
     },
     "output_type": "display_data"
    }
   ],
   "source": [
    "plt.figure(figsize=(10, 4))\n",
    "plt.hist(df_weather.loc[(df_weather[\"Days_from_planting\"] >= 0) & (df_weather[\"Date\"] < df_weather[\"Date_Harvested\"])].\\\n",
    "    groupby(\"Env\")[\"Days_from_planting\"].max(), bins=40)\n",
    "plt.show()"
   ]
  },
  {
   "cell_type": "code",
   "execution_count": 108,
   "metadata": {},
   "outputs": [],
   "source": [
    "# let's limit by 180 for simplicity\n",
    "\n",
    "# let's now split for each env the whole time into 5 equal periods and average on them \n",
    "# (this will give us 17*5 columns)"
   ]
  },
  {
   "cell_type": "code",
   "execution_count": 109,
   "metadata": {},
   "outputs": [],
   "source": [
    "df_weather = df_weather.loc[\n",
    "    (df_weather[\"Days_from_planting\"] >= 0) & \\\n",
    "    (df_weather[\"Date\"] < df_weather[\"Date_Harvested\"])\n",
    "]"
   ]
  },
  {
   "cell_type": "code",
   "execution_count": 110,
   "metadata": {},
   "outputs": [],
   "source": [
    "df_weather[\"VPD\"] = \\\n",
    "    610.78 * np.e**(df_weather[f\"T2M\"] / (df_weather[f\"T2M\"] + 237.3) * 17.2694)*(1 - df_weather[\"RH2M\"]/100) / 1000"
   ]
  },
  {
   "cell_type": "code",
   "execution_count": 111,
   "metadata": {},
   "outputs": [],
   "source": [
    "df_weather[\"GDU\"] = (\n",
    "    (\n",
    "        (\n",
    "            df_weather[\"T2M_MIN\"].clip(10, 30) + df_weather[\"T2M_MAX\"].clip(10, 30)\n",
    "        ) / 2\n",
    "    ) - 10\n",
    ") * 1.8 ## for daily weather only!!\n"
   ]
  },
  {
   "cell_type": "code",
   "execution_count": 114,
   "metadata": {},
   "outputs": [],
   "source": [
    "def gdu_cumsum(df_group):\n",
    "    df_group = df_group.sort_values(by='Days_from_planting').reset_index(drop=True)\n",
    "    df_group[\"GDU_accum\"] = np.cumsum(df_group[\"GDU\"])\n",
    "    return df_group\n",
    "    \n",
    "df_weather = df_weather.groupby('Env').apply(gdu_cumsum).reset_index(drop=True)"
   ]
  },
  {
   "cell_type": "code",
   "execution_count": 131,
   "metadata": {},
   "outputs": [],
   "source": [
    "cols = ['Env', 'PRECTOTCORR', 'T2M_MIN', 'T2M', 'T2M_MAX', 'VPD', 'WS2M', 'GDU_accum']"
   ]
  },
  {
   "cell_type": "markdown",
   "metadata": {},
   "source": [
    "#### 1"
   ]
  },
  {
   "cell_type": "code",
   "execution_count": null,
   "metadata": {},
   "outputs": [],
   "source": [
    "# heat = ['Env', 'T2M_MIN', 'T2M', 'T2M_MAX', 'GDU_accum'] + soil -> s_h ()\n",
    "# drought = ['Env', 'PRECTOTCORR', 'VPD', 'WS2M', 'GDU_accum'] + soil -> s_d"
   ]
  },
  {
   "cell_type": "code",
   "execution_count": null,
   "metadata": {},
   "outputs": [],
   "source": [
    "# [genetics (50), s_h (17x1), s_d (17x1), ec(20), 'loc'] -> mlp -> 1"
   ]
  },
  {
   "cell_type": "markdown",
   "metadata": {},
   "source": [
    "#### 2"
   ]
  },
  {
   "cell_type": "code",
   "execution_count": null,
   "metadata": {},
   "outputs": [],
   "source": [
    "# Stage Description \tStage categories for modeling  \tPeriod description \tBeginning of period \tEnd of period\n",
    "# Germination to emergence \tpGerEme \tgermination and emergence \tPlanting date \t120 GDU\n",
    "# Emergence to end of juvenile \tpEmeEnJ+pEnJFlo \temergence to floral initiation \t120 GDU \t820 GDU\n",
    "# End of juvenile to floral initiation\n",
    "# Floral initiation to flag leaf \tpFloFla+pFlaFlw \tMaximum vegetative growth \t820 GDU \tSILK_GDU  (calculate accumulated GDU from planting to Silk_DAP)\n",
    "# Flag leaf to flowering\n",
    "# Flowering to start of grain fill \tpFlwStG \tPolination and grain initiation \tSilk_GDU \tSilk_GDU+300\n",
    "# Start of grain fill to end of grain fill \tpStGEnG \tGrain fill \tSilk_GDU+300 \tSilk_GDU+1150"
   ]
  },
  {
   "cell_type": "code",
   "execution_count": 130,
   "metadata": {},
   "outputs": [],
   "source": [
    "# silk_DAP = f(genetics (50))"
   ]
  },
  {
   "cell_type": "code",
   "execution_count": 132,
   "metadata": {},
   "outputs": [],
   "source": [
    "df_weather_full = df_weather[cols]\n",
    "df_weather_full.to_csv(\"./4_weather_full.csv\", index=False)"
   ]
  },
  {
   "cell_type": "code",
   "execution_count": 134,
   "metadata": {},
   "outputs": [
    {
     "data": {
      "text/html": [
       "<div>\n",
       "<style scoped>\n",
       "    .dataframe tbody tr th:only-of-type {\n",
       "        vertical-align: middle;\n",
       "    }\n",
       "\n",
       "    .dataframe tbody tr th {\n",
       "        vertical-align: top;\n",
       "    }\n",
       "\n",
       "    .dataframe thead th {\n",
       "        text-align: right;\n",
       "    }\n",
       "</style>\n",
       "<table border=\"1\" class=\"dataframe\">\n",
       "  <thead>\n",
       "    <tr style=\"text-align: right;\">\n",
       "      <th></th>\n",
       "      <th>Env</th>\n",
       "      <th>PRECTOTCORR</th>\n",
       "      <th>T2M_MIN</th>\n",
       "      <th>T2M</th>\n",
       "      <th>T2M_MAX</th>\n",
       "      <th>VPD</th>\n",
       "      <th>WS2M</th>\n",
       "      <th>GDU_accum</th>\n",
       "    </tr>\n",
       "  </thead>\n",
       "  <tbody>\n",
       "    <tr>\n",
       "      <th>0</th>\n",
       "      <td>ARH1_2016</td>\n",
       "      <td>0.00</td>\n",
       "      <td>7.19</td>\n",
       "      <td>15.40</td>\n",
       "      <td>23.84</td>\n",
       "      <td>0.501972</td>\n",
       "      <td>2.96</td>\n",
       "      <td>12.456</td>\n",
       "    </tr>\n",
       "    <tr>\n",
       "      <th>1</th>\n",
       "      <td>ARH1_2016</td>\n",
       "      <td>0.00</td>\n",
       "      <td>6.35</td>\n",
       "      <td>12.19</td>\n",
       "      <td>18.40</td>\n",
       "      <td>0.441949</td>\n",
       "      <td>3.19</td>\n",
       "      <td>20.016</td>\n",
       "    </tr>\n",
       "    <tr>\n",
       "      <th>2</th>\n",
       "      <td>ARH1_2016</td>\n",
       "      <td>0.12</td>\n",
       "      <td>5.93</td>\n",
       "      <td>11.87</td>\n",
       "      <td>17.73</td>\n",
       "      <td>0.431890</td>\n",
       "      <td>2.26</td>\n",
       "      <td>26.973</td>\n",
       "    </tr>\n",
       "    <tr>\n",
       "      <th>3</th>\n",
       "      <td>ARH1_2016</td>\n",
       "      <td>0.19</td>\n",
       "      <td>11.47</td>\n",
       "      <td>18.05</td>\n",
       "      <td>24.32</td>\n",
       "      <td>0.583626</td>\n",
       "      <td>5.15</td>\n",
       "      <td>41.184</td>\n",
       "    </tr>\n",
       "    <tr>\n",
       "      <th>4</th>\n",
       "      <td>ARH1_2016</td>\n",
       "      <td>28.10</td>\n",
       "      <td>11.70</td>\n",
       "      <td>17.93</td>\n",
       "      <td>22.36</td>\n",
       "      <td>0.235066</td>\n",
       "      <td>4.07</td>\n",
       "      <td>53.838</td>\n",
       "    </tr>\n",
       "    <tr>\n",
       "      <th>...</th>\n",
       "      <td>...</td>\n",
       "      <td>...</td>\n",
       "      <td>...</td>\n",
       "      <td>...</td>\n",
       "      <td>...</td>\n",
       "      <td>...</td>\n",
       "      <td>...</td>\n",
       "      <td>...</td>\n",
       "    </tr>\n",
       "    <tr>\n",
       "      <th>140</th>\n",
       "      <td>ARH1_2016</td>\n",
       "      <td>0.00</td>\n",
       "      <td>25.06</td>\n",
       "      <td>29.47</td>\n",
       "      <td>34.24</td>\n",
       "      <td>1.065056</td>\n",
       "      <td>0.73</td>\n",
       "      <td>3530.349</td>\n",
       "    </tr>\n",
       "    <tr>\n",
       "      <th>141</th>\n",
       "      <td>ARH1_2016</td>\n",
       "      <td>5.14</td>\n",
       "      <td>25.29</td>\n",
       "      <td>28.30</td>\n",
       "      <td>32.67</td>\n",
       "      <td>0.761910</td>\n",
       "      <td>0.94</td>\n",
       "      <td>3562.110</td>\n",
       "    </tr>\n",
       "    <tr>\n",
       "      <th>142</th>\n",
       "      <td>ARH1_2016</td>\n",
       "      <td>0.24</td>\n",
       "      <td>23.08</td>\n",
       "      <td>28.66</td>\n",
       "      <td>34.51</td>\n",
       "      <td>1.163254</td>\n",
       "      <td>1.27</td>\n",
       "      <td>3591.882</td>\n",
       "    </tr>\n",
       "    <tr>\n",
       "      <th>143</th>\n",
       "      <td>ARH1_2016</td>\n",
       "      <td>0.33</td>\n",
       "      <td>23.04</td>\n",
       "      <td>29.49</td>\n",
       "      <td>36.37</td>\n",
       "      <td>1.388063</td>\n",
       "      <td>1.75</td>\n",
       "      <td>3621.618</td>\n",
       "    </tr>\n",
       "    <tr>\n",
       "      <th>144</th>\n",
       "      <td>ARH1_2016</td>\n",
       "      <td>1.01</td>\n",
       "      <td>24.42</td>\n",
       "      <td>28.82</td>\n",
       "      <td>33.69</td>\n",
       "      <td>1.114624</td>\n",
       "      <td>1.59</td>\n",
       "      <td>3652.596</td>\n",
       "    </tr>\n",
       "  </tbody>\n",
       "</table>\n",
       "<p>145 rows × 8 columns</p>\n",
       "</div>"
      ],
      "text/plain": [
       "           Env  PRECTOTCORR  T2M_MIN    T2M  T2M_MAX       VPD  WS2M  \\\n",
       "0    ARH1_2016         0.00     7.19  15.40    23.84  0.501972  2.96   \n",
       "1    ARH1_2016         0.00     6.35  12.19    18.40  0.441949  3.19   \n",
       "2    ARH1_2016         0.12     5.93  11.87    17.73  0.431890  2.26   \n",
       "3    ARH1_2016         0.19    11.47  18.05    24.32  0.583626  5.15   \n",
       "4    ARH1_2016        28.10    11.70  17.93    22.36  0.235066  4.07   \n",
       "..         ...          ...      ...    ...      ...       ...   ...   \n",
       "140  ARH1_2016         0.00    25.06  29.47    34.24  1.065056  0.73   \n",
       "141  ARH1_2016         5.14    25.29  28.30    32.67  0.761910  0.94   \n",
       "142  ARH1_2016         0.24    23.08  28.66    34.51  1.163254  1.27   \n",
       "143  ARH1_2016         0.33    23.04  29.49    36.37  1.388063  1.75   \n",
       "144  ARH1_2016         1.01    24.42  28.82    33.69  1.114624  1.59   \n",
       "\n",
       "     GDU_accum  \n",
       "0       12.456  \n",
       "1       20.016  \n",
       "2       26.973  \n",
       "3       41.184  \n",
       "4       53.838  \n",
       "..         ...  \n",
       "140   3530.349  \n",
       "141   3562.110  \n",
       "142   3591.882  \n",
       "143   3621.618  \n",
       "144   3652.596  \n",
       "\n",
       "[145 rows x 8 columns]"
      ]
     },
     "execution_count": 134,
     "metadata": {},
     "output_type": "execute_result"
    }
   ],
   "source": [
    "df_weather_full.query(\"Env == 'ARH1_2016'\")"
   ]
  },
  {
   "cell_type": "code",
   "execution_count": 89,
   "metadata": {},
   "outputs": [
    {
     "data": {
      "text/html": [
       "<div>\n",
       "<style scoped>\n",
       "    .dataframe tbody tr th:only-of-type {\n",
       "        vertical-align: middle;\n",
       "    }\n",
       "\n",
       "    .dataframe tbody tr th {\n",
       "        vertical-align: top;\n",
       "    }\n",
       "\n",
       "    .dataframe thead th {\n",
       "        text-align: right;\n",
       "    }\n",
       "</style>\n",
       "<table border=\"1\" class=\"dataframe\">\n",
       "  <thead>\n",
       "    <tr style=\"text-align: right;\">\n",
       "      <th></th>\n",
       "      <th>PRECTOTCORR</th>\n",
       "      <th>T2M_MIN</th>\n",
       "      <th>T2M_MAX</th>\n",
       "      <th>VPD</th>\n",
       "      <th>WS2M</th>\n",
       "    </tr>\n",
       "  </thead>\n",
       "  <tbody>\n",
       "    <tr>\n",
       "      <th>97</th>\n",
       "      <td>0.00</td>\n",
       "      <td>7.19</td>\n",
       "      <td>23.84</td>\n",
       "      <td>0.501972</td>\n",
       "      <td>2.96</td>\n",
       "    </tr>\n",
       "    <tr>\n",
       "      <th>98</th>\n",
       "      <td>0.00</td>\n",
       "      <td>6.35</td>\n",
       "      <td>18.40</td>\n",
       "      <td>0.441949</td>\n",
       "      <td>3.19</td>\n",
       "    </tr>\n",
       "    <tr>\n",
       "      <th>99</th>\n",
       "      <td>0.12</td>\n",
       "      <td>5.93</td>\n",
       "      <td>17.73</td>\n",
       "      <td>0.431890</td>\n",
       "      <td>2.26</td>\n",
       "    </tr>\n",
       "    <tr>\n",
       "      <th>100</th>\n",
       "      <td>0.19</td>\n",
       "      <td>11.47</td>\n",
       "      <td>24.32</td>\n",
       "      <td>0.583626</td>\n",
       "      <td>5.15</td>\n",
       "    </tr>\n",
       "    <tr>\n",
       "      <th>101</th>\n",
       "      <td>28.10</td>\n",
       "      <td>11.70</td>\n",
       "      <td>22.36</td>\n",
       "      <td>0.235066</td>\n",
       "      <td>4.07</td>\n",
       "    </tr>\n",
       "    <tr>\n",
       "      <th>...</th>\n",
       "      <td>...</td>\n",
       "      <td>...</td>\n",
       "      <td>...</td>\n",
       "      <td>...</td>\n",
       "      <td>...</td>\n",
       "    </tr>\n",
       "    <tr>\n",
       "      <th>77321</th>\n",
       "      <td>2.08</td>\n",
       "      <td>19.15</td>\n",
       "      <td>28.56</td>\n",
       "      <td>0.940663</td>\n",
       "      <td>2.10</td>\n",
       "    </tr>\n",
       "    <tr>\n",
       "      <th>77322</th>\n",
       "      <td>0.02</td>\n",
       "      <td>17.65</td>\n",
       "      <td>32.27</td>\n",
       "      <td>1.442708</td>\n",
       "      <td>2.89</td>\n",
       "    </tr>\n",
       "    <tr>\n",
       "      <th>77323</th>\n",
       "      <td>0.00</td>\n",
       "      <td>19.16</td>\n",
       "      <td>32.81</td>\n",
       "      <td>1.815331</td>\n",
       "      <td>3.00</td>\n",
       "    </tr>\n",
       "    <tr>\n",
       "      <th>77324</th>\n",
       "      <td>0.00</td>\n",
       "      <td>18.82</td>\n",
       "      <td>31.27</td>\n",
       "      <td>1.683885</td>\n",
       "      <td>3.14</td>\n",
       "    </tr>\n",
       "    <tr>\n",
       "      <th>77325</th>\n",
       "      <td>0.00</td>\n",
       "      <td>19.60</td>\n",
       "      <td>32.18</td>\n",
       "      <td>1.680728</td>\n",
       "      <td>2.91</td>\n",
       "    </tr>\n",
       "  </tbody>\n",
       "</table>\n",
       "<p>34018 rows × 5 columns</p>\n",
       "</div>"
      ],
      "text/plain": [
       "       PRECTOTCORR  T2M_MIN  T2M_MAX       VPD  WS2M\n",
       "97            0.00     7.19    23.84  0.501972  2.96\n",
       "98            0.00     6.35    18.40  0.441949  3.19\n",
       "99            0.12     5.93    17.73  0.431890  2.26\n",
       "100           0.19    11.47    24.32  0.583626  5.15\n",
       "101          28.10    11.70    22.36  0.235066  4.07\n",
       "...            ...      ...      ...       ...   ...\n",
       "77321         2.08    19.15    28.56  0.940663  2.10\n",
       "77322         0.02    17.65    32.27  1.442708  2.89\n",
       "77323         0.00    19.16    32.81  1.815331  3.00\n",
       "77324         0.00    18.82    31.27  1.683885  3.14\n",
       "77325         0.00    19.60    32.18  1.680728  2.91\n",
       "\n",
       "[34018 rows x 5 columns]"
      ]
     },
     "execution_count": 89,
     "metadata": {},
     "output_type": "execute_result"
    }
   ],
   "source": [
    "df_weather[cols]"
   ]
  },
  {
   "cell_type": "code",
   "execution_count": null,
   "metadata": {},
   "outputs": [],
   "source": []
  },
  {
   "cell_type": "code",
   "execution_count": 84,
   "metadata": {},
   "outputs": [],
   "source": [
    "weather_cols = df_weather.columns\n",
    "def average_by_periods(df, columns, n_periods=5):\n",
    "    row = {}\n",
    "    period_length = df[\"Days_from_planting\"].max() / n_periods\n",
    "    for period in range(n_periods):\n",
    "        sub_df = df.loc[\n",
    "            (df[\"Days_from_planting\"] >= (period_length * period)) & \\\n",
    "            (df[\"Days_from_planting\"] < (period_length * (period+1)))\n",
    "        ]\n",
    "        \n",
    "        if period == 0:\n",
    "            row[f\"PRECTOTCORR_{period}\"] = sub_df[\"PRECTOTCORR\"].sum()\n",
    "            row[f\"T2M_MIN_{period}\"] = sub_df[\"T2M_MIN\"].mean()\n",
    "#             row[f\"GWETROOT_{period}\"] = sub_df[\"GWETROOT\"].mean()\n",
    "            #ECDD\n",
    "        elif period == 1:\n",
    "            row[f\"PRECTOTCORR_{period}\"] = sub_df[\"PRECTOTCORR\"].sum()\n",
    "            row[f\"T2M_MIN_{period}\"] = sub_df[\"T2M_MIN\"].mean()\n",
    "            row[f\"N_NEG_DAYS_{period}\"] = (sub_df[\"T2M_MIN\"] < 0).sum()\n",
    "            row[f\"WS2M_{period}\"] = sub_df[\"WS2M\"].max()\n",
    "#             row[f\"GWETROOT_{period}\"] = sub_df[\"GWETROOT\"].mean()\n",
    "        elif period == 2:\n",
    "            row[f\"PRECTOTCORR_{period}\"] = sub_df[\"PRECTOTCORR\"].sum()\n",
    "            row[f\"T2M_MAX_{period}\"] = sub_df[\"T2M_MAX\"].mean()\n",
    "            row[f\"T2M_MIN_{period}\"] = sub_df[\"T2M_MIN\"].mean()\n",
    "            row[f\"WS2M_{period}\"] = sub_df[\"WS2M\"].max()\n",
    "#             row[f\"GWETROOT_{period}\"] = sub_df[\"GWETROOT\"].mean()\n",
    "            row[f\"VPD_{period}\"] = sub_df[\"VPD\"].mean()\n",
    "            #EDD\n",
    "        elif period == 3:\n",
    "            row[f\"PRECTOTCORR_{period}\"] = sub_df[\"PRECTOTCORR\"].sum()\n",
    "            row[f\"T2M_MAX_{period}\"] = sub_df[\"T2M_MAX\"].mean()\n",
    "            row[f\"T2M_MIN_{period}\"] = sub_df[\"T2M_MIN\"].mean()\n",
    "            row[f\"WS2M_{period}\"] = sub_df[\"WS2M\"].max()\n",
    "#             row[f\"GWETROOT_{period}\"] = sub_df[\"GWETROOT\"].mean()\n",
    "            row[f\"VPD_{period}\"] = sub_df[\"VPD\"].mean()\n",
    "            #EDD, ECDD\n",
    "        elif period == 4:\n",
    "            row[f\"PRECTOTCORR_{period}\"] = sub_df[\"PRECTOTCORR\"].sum()\n",
    "            row[f\"T2M_MAX_{period}\"] = sub_df[\"T2M_MAX\"].mean()\n",
    "            row[f\"T2M_MIN_{period}\"] = sub_df[\"T2M_MIN\"].mean()\n",
    "            row[f\"N_NEG_DAYS_{period}\"] = (sub_df[\"T2M_MIN\"] < 0).sum()\n",
    "            row[f\"WS2M_{period}\"] = sub_df[\"WS2M\"].max()\n",
    "#             row[f\"GWETROOT_{period}\"] = sub_df[\"GWETROOT\"].mean()\n",
    "            row[f\"VPD_{period}\"] = sub_df[\"VPD\"].mean()\n",
    "            #EDD, ECDD\n",
    "            \n",
    "\n",
    "    return pd.Series(row)"
   ]
  },
  {
   "cell_type": "code",
   "execution_count": 85,
   "metadata": {},
   "outputs": [],
   "source": [
    "df_weather_averaged = df_weather.groupby(\"Env\").apply(lambda df: average_by_periods(\n",
    "    df,\n",
    "    columns=list(set(df_weather.columns) - {'Env', 'Date', 'Date_Planted', 'Date_Harvested', 'df_weather.columns'}),\n",
    "    n_periods=5,\n",
    ")).reset_index()"
   ]
  },
  {
   "cell_type": "code",
   "execution_count": null,
   "metadata": {},
   "outputs": [],
   "source": []
  },
  {
   "cell_type": "code",
   "execution_count": 87,
   "metadata": {},
   "outputs": [
    {
     "data": {
      "text/plain": [
       "Index(['Env', 'PRECTOTCORR_0', 'T2M_MIN_0', 'PRECTOTCORR_1', 'T2M_MIN_1',\n",
       "       'N_NEG_DAYS_1', 'WS2M_1', 'PRECTOTCORR_2', 'T2M_MAX_2', 'T2M_MIN_2',\n",
       "       'WS2M_2', 'VPD_2', 'PRECTOTCORR_3', 'T2M_MAX_3', 'T2M_MIN_3', 'WS2M_3',\n",
       "       'VPD_3', 'PRECTOTCORR_4', 'T2M_MAX_4', 'T2M_MIN_4', 'N_NEG_DAYS_4',\n",
       "       'WS2M_4', 'VPD_4'],\n",
       "      dtype='object')"
      ]
     },
     "execution_count": 87,
     "metadata": {},
     "output_type": "execute_result"
    }
   ],
   "source": [
    "df_weather_averaged.columns"
   ]
  },
  {
   "cell_type": "code",
   "execution_count": 101,
   "metadata": {},
   "outputs": [],
   "source": [
    "df_weather_averaged[\"Year\"] = df_weather_averaged[\"Env\"].map(lambda s: int(s.split('_')[-1]))\n",
    "df_weather_averaged = df_weather_averaged[[\"Env\", \"Year\"] + sorted(df_weather_averaged.columns[1:-1])]"
   ]
  },
  {
   "cell_type": "code",
   "execution_count": 118,
   "metadata": {},
   "outputs": [
    {
     "data": {
      "text/plain": [
       "KMeans()"
      ]
     },
     "execution_count": 118,
     "metadata": {},
     "output_type": "execute_result"
    }
   ],
   "source": [
    "weather_scaler = StandardScaler()\n",
    "weather_scaler.fit(df_weather_averaged.query(\"Year < 2021\").iloc[:, 2:])\n",
    "clusterer = KMeans(n_clusters=8)\n",
    "clusterer.fit(weather_scaler.transform(df_weather_averaged.query(\"Year < 2021\").iloc[:, 2:]))"
   ]
  },
  {
   "cell_type": "code",
   "execution_count": 124,
   "metadata": {},
   "outputs": [
    {
     "data": {
      "text/plain": [
       "['./weather_clusterer.joblib']"
      ]
     },
     "execution_count": 124,
     "metadata": {},
     "output_type": "execute_result"
    }
   ],
   "source": [
    "dump(weather_scaler, \"./weather_scaler.joblib\")\n",
    "dump(clusterer, \"./weather_clusterer.joblib\")"
   ]
  },
  {
   "cell_type": "code",
   "execution_count": 119,
   "metadata": {},
   "outputs": [],
   "source": [
    "scenarios = clusterer.predict(weather_scaler.transform(df_weather_averaged.iloc[:, 2:]))\n",
    "df_weather_averaged[\"scenario\"] = scenarios\n",
    "pd.Series(scenarios).value_counts()"
   ]
  },
  {
   "cell_type": "code",
   "execution_count": 122,
   "metadata": {},
   "outputs": [],
   "source": [
    "df_weather_averaged.to_csv(\"./4_weather_averaged.csv\", index=False)"
   ]
  },
  {
   "cell_type": "markdown",
   "metadata": {},
   "source": [
    "## 5. Strains  (logistic SVD/PCA in another notebook)"
   ]
  },
  {
   "cell_type": "code",
   "execution_count": 465,
   "metadata": {},
   "outputs": [],
   "source": [
    "df_strain = pd.read_csv(\"./strain.csv\")\n",
    "# df_strain = df_strain.set_index(\"strain\")"
   ]
  },
  {
   "cell_type": "code",
   "execution_count": 466,
   "metadata": {
    "scrolled": true
   },
   "outputs": [
    {
     "data": {
      "text/html": [
       "<div>\n",
       "<style scoped>\n",
       "    .dataframe tbody tr th:only-of-type {\n",
       "        vertical-align: middle;\n",
       "    }\n",
       "\n",
       "    .dataframe tbody tr th {\n",
       "        vertical-align: top;\n",
       "    }\n",
       "\n",
       "    .dataframe thead th {\n",
       "        text-align: right;\n",
       "    }\n",
       "</style>\n",
       "<table border=\"1\" class=\"dataframe\">\n",
       "  <thead>\n",
       "    <tr style=\"text-align: right;\">\n",
       "      <th></th>\n",
       "      <th>strain</th>\n",
       "      <th>V1</th>\n",
       "      <th>V2</th>\n",
       "      <th>V3</th>\n",
       "      <th>V4</th>\n",
       "      <th>V5</th>\n",
       "      <th>V6</th>\n",
       "      <th>V7</th>\n",
       "      <th>V8</th>\n",
       "      <th>V9</th>\n",
       "      <th>...</th>\n",
       "      <th>V41</th>\n",
       "      <th>V42</th>\n",
       "      <th>V43</th>\n",
       "      <th>V44</th>\n",
       "      <th>V45</th>\n",
       "      <th>V46</th>\n",
       "      <th>V47</th>\n",
       "      <th>V48</th>\n",
       "      <th>V49</th>\n",
       "      <th>V50</th>\n",
       "    </tr>\n",
       "  </thead>\n",
       "  <tbody>\n",
       "    <tr>\n",
       "      <th>0</th>\n",
       "      <td>2369</td>\n",
       "      <td>-1688.209248</td>\n",
       "      <td>-829.192393</td>\n",
       "      <td>134.539912</td>\n",
       "      <td>-65.046161</td>\n",
       "      <td>32.638545</td>\n",
       "      <td>-765.825520</td>\n",
       "      <td>-420.298496</td>\n",
       "      <td>140.254360</td>\n",
       "      <td>-274.662855</td>\n",
       "      <td>...</td>\n",
       "      <td>60.168819</td>\n",
       "      <td>261.425822</td>\n",
       "      <td>-125.412044</td>\n",
       "      <td>-308.040635</td>\n",
       "      <td>-100.933971</td>\n",
       "      <td>389.579470</td>\n",
       "      <td>140.815876</td>\n",
       "      <td>-393.041455</td>\n",
       "      <td>204.575780</td>\n",
       "      <td>-53.725272</td>\n",
       "    </tr>\n",
       "    <tr>\n",
       "      <th>1</th>\n",
       "      <td>2FACC</td>\n",
       "      <td>-50.934458</td>\n",
       "      <td>839.587276</td>\n",
       "      <td>277.682769</td>\n",
       "      <td>866.670175</td>\n",
       "      <td>667.769114</td>\n",
       "      <td>-172.364034</td>\n",
       "      <td>44.734925</td>\n",
       "      <td>102.877251</td>\n",
       "      <td>-105.922844</td>\n",
       "      <td>...</td>\n",
       "      <td>220.686741</td>\n",
       "      <td>565.680379</td>\n",
       "      <td>-46.750418</td>\n",
       "      <td>428.967608</td>\n",
       "      <td>-118.448039</td>\n",
       "      <td>-35.135522</td>\n",
       "      <td>-69.061610</td>\n",
       "      <td>-239.562959</td>\n",
       "      <td>80.115924</td>\n",
       "      <td>17.032275</td>\n",
       "    </tr>\n",
       "    <tr>\n",
       "      <th>2</th>\n",
       "      <td>4N506</td>\n",
       "      <td>-1177.221603</td>\n",
       "      <td>110.105434</td>\n",
       "      <td>-61.652410</td>\n",
       "      <td>430.553212</td>\n",
       "      <td>-195.273463</td>\n",
       "      <td>-492.641358</td>\n",
       "      <td>-134.649178</td>\n",
       "      <td>146.667693</td>\n",
       "      <td>135.341639</td>\n",
       "      <td>...</td>\n",
       "      <td>57.609670</td>\n",
       "      <td>198.050811</td>\n",
       "      <td>110.363929</td>\n",
       "      <td>53.083358</td>\n",
       "      <td>-96.963968</td>\n",
       "      <td>-435.691138</td>\n",
       "      <td>-136.727222</td>\n",
       "      <td>192.252259</td>\n",
       "      <td>374.375646</td>\n",
       "      <td>396.647014</td>\n",
       "    </tr>\n",
       "    <tr>\n",
       "      <th>3</th>\n",
       "      <td>6F629</td>\n",
       "      <td>-1042.940541</td>\n",
       "      <td>614.693322</td>\n",
       "      <td>-133.316078</td>\n",
       "      <td>760.149227</td>\n",
       "      <td>-269.146314</td>\n",
       "      <td>-242.329977</td>\n",
       "      <td>3.555848</td>\n",
       "      <td>-52.314259</td>\n",
       "      <td>-24.849891</td>\n",
       "      <td>...</td>\n",
       "      <td>-187.212197</td>\n",
       "      <td>197.931534</td>\n",
       "      <td>12.173633</td>\n",
       "      <td>-144.286119</td>\n",
       "      <td>-49.780724</td>\n",
       "      <td>-2.271437</td>\n",
       "      <td>9.435327</td>\n",
       "      <td>203.055899</td>\n",
       "      <td>86.161039</td>\n",
       "      <td>256.435646</td>\n",
       "    </tr>\n",
       "    <tr>\n",
       "      <th>4</th>\n",
       "      <td>740</td>\n",
       "      <td>-527.868697</td>\n",
       "      <td>1172.616750</td>\n",
       "      <td>145.096510</td>\n",
       "      <td>-317.877646</td>\n",
       "      <td>-47.501212</td>\n",
       "      <td>-704.981072</td>\n",
       "      <td>-1036.674695</td>\n",
       "      <td>-301.185469</td>\n",
       "      <td>172.112116</td>\n",
       "      <td>...</td>\n",
       "      <td>242.396880</td>\n",
       "      <td>123.842714</td>\n",
       "      <td>-70.425523</td>\n",
       "      <td>-70.428380</td>\n",
       "      <td>-56.904291</td>\n",
       "      <td>186.884394</td>\n",
       "      <td>-119.125113</td>\n",
       "      <td>117.456240</td>\n",
       "      <td>-207.902624</td>\n",
       "      <td>11.904483</td>\n",
       "    </tr>\n",
       "    <tr>\n",
       "      <th>...</th>\n",
       "      <td>...</td>\n",
       "      <td>...</td>\n",
       "      <td>...</td>\n",
       "      <td>...</td>\n",
       "      <td>...</td>\n",
       "      <td>...</td>\n",
       "      <td>...</td>\n",
       "      <td>...</td>\n",
       "      <td>...</td>\n",
       "      <td>...</td>\n",
       "      <td>...</td>\n",
       "      <td>...</td>\n",
       "      <td>...</td>\n",
       "      <td>...</td>\n",
       "      <td>...</td>\n",
       "      <td>...</td>\n",
       "      <td>...</td>\n",
       "      <td>...</td>\n",
       "      <td>...</td>\n",
       "      <td>...</td>\n",
       "      <td>...</td>\n",
       "    </tr>\n",
       "    <tr>\n",
       "      <th>2199</th>\n",
       "      <td>Z035E0060</td>\n",
       "      <td>-2055.890328</td>\n",
       "      <td>-1953.150894</td>\n",
       "      <td>70.072799</td>\n",
       "      <td>-111.029402</td>\n",
       "      <td>372.263513</td>\n",
       "      <td>-1308.405940</td>\n",
       "      <td>-320.092454</td>\n",
       "      <td>500.461519</td>\n",
       "      <td>-379.528280</td>\n",
       "      <td>...</td>\n",
       "      <td>-5.515097</td>\n",
       "      <td>-584.760465</td>\n",
       "      <td>74.815310</td>\n",
       "      <td>331.822260</td>\n",
       "      <td>266.172946</td>\n",
       "      <td>-204.350954</td>\n",
       "      <td>32.582350</td>\n",
       "      <td>-51.677766</td>\n",
       "      <td>-62.465891</td>\n",
       "      <td>-46.948567</td>\n",
       "    </tr>\n",
       "    <tr>\n",
       "      <th>2200</th>\n",
       "      <td>Z036E0057</td>\n",
       "      <td>-2323.436671</td>\n",
       "      <td>-2075.055658</td>\n",
       "      <td>18.569257</td>\n",
       "      <td>-70.832876</td>\n",
       "      <td>118.823092</td>\n",
       "      <td>-883.959271</td>\n",
       "      <td>-220.717645</td>\n",
       "      <td>373.081805</td>\n",
       "      <td>-252.784371</td>\n",
       "      <td>...</td>\n",
       "      <td>-64.576538</td>\n",
       "      <td>-60.458536</td>\n",
       "      <td>-73.032824</td>\n",
       "      <td>427.145816</td>\n",
       "      <td>-39.135163</td>\n",
       "      <td>-258.546656</td>\n",
       "      <td>-457.985514</td>\n",
       "      <td>-401.556793</td>\n",
       "      <td>169.629498</td>\n",
       "      <td>-135.322036</td>\n",
       "    </tr>\n",
       "    <tr>\n",
       "      <th>2201</th>\n",
       "      <td>Z037E0012</td>\n",
       "      <td>-2306.396773</td>\n",
       "      <td>-2359.880274</td>\n",
       "      <td>143.326408</td>\n",
       "      <td>-344.235235</td>\n",
       "      <td>404.583411</td>\n",
       "      <td>-1180.553636</td>\n",
       "      <td>-259.094239</td>\n",
       "      <td>276.993126</td>\n",
       "      <td>-417.365881</td>\n",
       "      <td>...</td>\n",
       "      <td>-377.250412</td>\n",
       "      <td>7.998896</td>\n",
       "      <td>-26.071063</td>\n",
       "      <td>174.335036</td>\n",
       "      <td>246.983704</td>\n",
       "      <td>-180.654246</td>\n",
       "      <td>91.805270</td>\n",
       "      <td>-140.168469</td>\n",
       "      <td>247.029765</td>\n",
       "      <td>-75.352252</td>\n",
       "    </tr>\n",
       "    <tr>\n",
       "      <th>2202</th>\n",
       "      <td>Z037E0054</td>\n",
       "      <td>-2136.167572</td>\n",
       "      <td>-2144.448086</td>\n",
       "      <td>43.534109</td>\n",
       "      <td>-319.954744</td>\n",
       "      <td>334.199129</td>\n",
       "      <td>-1158.805849</td>\n",
       "      <td>-234.999734</td>\n",
       "      <td>462.843111</td>\n",
       "      <td>-258.007071</td>\n",
       "      <td>...</td>\n",
       "      <td>-240.462769</td>\n",
       "      <td>-151.645328</td>\n",
       "      <td>355.900085</td>\n",
       "      <td>79.510906</td>\n",
       "      <td>238.717844</td>\n",
       "      <td>-226.944325</td>\n",
       "      <td>-136.504652</td>\n",
       "      <td>68.029944</td>\n",
       "      <td>191.574256</td>\n",
       "      <td>-187.393920</td>\n",
       "    </tr>\n",
       "    <tr>\n",
       "      <th>2203</th>\n",
       "      <td>Z038E0057</td>\n",
       "      <td>-2281.963055</td>\n",
       "      <td>-2466.677351</td>\n",
       "      <td>147.899831</td>\n",
       "      <td>-306.078212</td>\n",
       "      <td>325.362322</td>\n",
       "      <td>-972.238245</td>\n",
       "      <td>-93.070120</td>\n",
       "      <td>211.308415</td>\n",
       "      <td>-361.571272</td>\n",
       "      <td>...</td>\n",
       "      <td>-434.696067</td>\n",
       "      <td>-14.636993</td>\n",
       "      <td>-44.710043</td>\n",
       "      <td>152.969752</td>\n",
       "      <td>418.927095</td>\n",
       "      <td>-241.145513</td>\n",
       "      <td>71.145598</td>\n",
       "      <td>-91.874822</td>\n",
       "      <td>226.585695</td>\n",
       "      <td>117.107900</td>\n",
       "    </tr>\n",
       "  </tbody>\n",
       "</table>\n",
       "<p>2204 rows × 51 columns</p>\n",
       "</div>"
      ],
      "text/plain": [
       "         strain           V1           V2          V3          V4          V5  \\\n",
       "0          2369 -1688.209248  -829.192393  134.539912  -65.046161   32.638545   \n",
       "1         2FACC   -50.934458   839.587276  277.682769  866.670175  667.769114   \n",
       "2         4N506 -1177.221603   110.105434  -61.652410  430.553212 -195.273463   \n",
       "3         6F629 -1042.940541   614.693322 -133.316078  760.149227 -269.146314   \n",
       "4           740  -527.868697  1172.616750  145.096510 -317.877646  -47.501212   \n",
       "...         ...          ...          ...         ...         ...         ...   \n",
       "2199  Z035E0060 -2055.890328 -1953.150894   70.072799 -111.029402  372.263513   \n",
       "2200  Z036E0057 -2323.436671 -2075.055658   18.569257  -70.832876  118.823092   \n",
       "2201  Z037E0012 -2306.396773 -2359.880274  143.326408 -344.235235  404.583411   \n",
       "2202  Z037E0054 -2136.167572 -2144.448086   43.534109 -319.954744  334.199129   \n",
       "2203  Z038E0057 -2281.963055 -2466.677351  147.899831 -306.078212  325.362322   \n",
       "\n",
       "               V6           V7          V8          V9  ...         V41  \\\n",
       "0     -765.825520  -420.298496  140.254360 -274.662855  ...   60.168819   \n",
       "1     -172.364034    44.734925  102.877251 -105.922844  ...  220.686741   \n",
       "2     -492.641358  -134.649178  146.667693  135.341639  ...   57.609670   \n",
       "3     -242.329977     3.555848  -52.314259  -24.849891  ... -187.212197   \n",
       "4     -704.981072 -1036.674695 -301.185469  172.112116  ...  242.396880   \n",
       "...           ...          ...         ...         ...  ...         ...   \n",
       "2199 -1308.405940  -320.092454  500.461519 -379.528280  ...   -5.515097   \n",
       "2200  -883.959271  -220.717645  373.081805 -252.784371  ...  -64.576538   \n",
       "2201 -1180.553636  -259.094239  276.993126 -417.365881  ... -377.250412   \n",
       "2202 -1158.805849  -234.999734  462.843111 -258.007071  ... -240.462769   \n",
       "2203  -972.238245   -93.070120  211.308415 -361.571272  ... -434.696067   \n",
       "\n",
       "             V42         V43         V44         V45         V46         V47  \\\n",
       "0     261.425822 -125.412044 -308.040635 -100.933971  389.579470  140.815876   \n",
       "1     565.680379  -46.750418  428.967608 -118.448039  -35.135522  -69.061610   \n",
       "2     198.050811  110.363929   53.083358  -96.963968 -435.691138 -136.727222   \n",
       "3     197.931534   12.173633 -144.286119  -49.780724   -2.271437    9.435327   \n",
       "4     123.842714  -70.425523  -70.428380  -56.904291  186.884394 -119.125113   \n",
       "...          ...         ...         ...         ...         ...         ...   \n",
       "2199 -584.760465   74.815310  331.822260  266.172946 -204.350954   32.582350   \n",
       "2200  -60.458536  -73.032824  427.145816  -39.135163 -258.546656 -457.985514   \n",
       "2201    7.998896  -26.071063  174.335036  246.983704 -180.654246   91.805270   \n",
       "2202 -151.645328  355.900085   79.510906  238.717844 -226.944325 -136.504652   \n",
       "2203  -14.636993  -44.710043  152.969752  418.927095 -241.145513   71.145598   \n",
       "\n",
       "             V48         V49         V50  \n",
       "0    -393.041455  204.575780  -53.725272  \n",
       "1    -239.562959   80.115924   17.032275  \n",
       "2     192.252259  374.375646  396.647014  \n",
       "3     203.055899   86.161039  256.435646  \n",
       "4     117.456240 -207.902624   11.904483  \n",
       "...          ...         ...         ...  \n",
       "2199  -51.677766  -62.465891  -46.948567  \n",
       "2200 -401.556793  169.629498 -135.322036  \n",
       "2201 -140.168469  247.029765  -75.352252  \n",
       "2202   68.029944  191.574256 -187.393920  \n",
       "2203  -91.874822  226.585695  117.107900  \n",
       "\n",
       "[2204 rows x 51 columns]"
      ]
     },
     "execution_count": 466,
     "metadata": {},
     "output_type": "execute_result"
    }
   ],
   "source": [
    "df_strain"
   ]
  },
  {
   "cell_type": "markdown",
   "metadata": {},
   "source": [
    "## 6. EC"
   ]
  },
  {
   "cell_type": "code",
   "execution_count": 5,
   "metadata": {},
   "outputs": [
    {
     "data": {
      "text/plain": [
       "0"
      ]
     },
     "execution_count": 5,
     "metadata": {},
     "output_type": "execute_result"
    }
   ],
   "source": [
    "df_ec = pd.read_csv(\"./6_Training_EC_Data_2014_2021.csv\")\n",
    "df_ec.isna().sum().max()"
   ]
  },
  {
   "cell_type": "code",
   "execution_count": 6,
   "metadata": {},
   "outputs": [],
   "source": [
    "df_ec[\"Year\"] = df_ec[\"Env\"].map(lambda s: int(s.split('_')[-1]))"
   ]
  },
  {
   "cell_type": "code",
   "execution_count": 10,
   "metadata": {},
   "outputs": [],
   "source": [
    "growth_stages = [\"pGerEme\", \"pEmeEnJ\", \"pEnJFlo\", \"pFloFla\", \"pFlaFlw\", \"pFlwStG\", \"pStGEnG\", \"pEnGMat\", \"pMatHar\"]\n",
    "\n",
    "growth_stage_to_max_layer = {\n",
    "    \"pGerEme\": 1,\n",
    "    \"pEmeEnJ\": 3,\n",
    "    \"pEnJFlo\": 3,\n",
    "    \"pFloFla\": 10,\n",
    "    \"pFlaFlw\": 10,\n",
    "    \"pFlwStG\": 10,\n",
    "    \"pStGEnG\": 10,\n",
    "    \"pMatHar\": 0,\n",
    "}\n",
    "for growth_stage in growth_stages:\n",
    "    for feature in [\"SDR\", \"ESW\", \"Flow\", \"FlowNO3\", \"Flux\", \"PAWmm\", \"SWmm\"]:\n",
    "        try:\n",
    "            df_ec[f\"{feature}_{growth_stage}\"] = sum([\n",
    "                df_ec[f\"{feature}_{growth_stage}_{soil_layer}\"] for soil_layer in range(1, growth_stage_to_max_layer[growth_stage] + 1)\n",
    "            ])\n",
    "        except KeyError:\n",
    "            pass"
   ]
  },
  {
   "cell_type": "code",
   "execution_count": 11,
   "metadata": {},
   "outputs": [
    {
     "data": {
      "text/plain": [
       "(165, 33)"
      ]
     },
     "execution_count": 11,
     "metadata": {},
     "output_type": "execute_result"
    }
   ],
   "source": [
    "\n",
    "df_ec_filtered = pd.DataFrame()\n",
    "\n",
    "df_ec_filtered[\"Env\"] = df_ec[\"Env\"]\n",
    "df_ec_filtered[\"Year\"] = df_ec[\"Year\"]\n",
    "\n",
    "df_ec_filtered[\"SDR_pGerEme\"] = df_ec[\"SDR_pGerEme\"]\n",
    "df_ec_filtered[\"SDR_pEmeEnJ+pEnJFlo\"] = df_ec[\"SDR_pEmeEnJ\"]+df_ec[\"SDR_pEnJFlo\"]\n",
    "df_ec_filtered[\"SDR_pFloFla+pFlaFlw\"] = df_ec[\"SDR_pFloFla\"]+df_ec[\"SDR_pFlaFlw\"]\n",
    "df_ec_filtered[\"SDR_pFlwStG\"] = df_ec[\"SDR_pFlwStG\"]\n",
    "df_ec_filtered[\"SDR_pStGEnG\"] = df_ec[\"SDR_pStGEnG\"]\n",
    "\n",
    "df_ec_filtered[\"TT_pGerEme\"] = df_ec[\"TT_pGerEme\"]\n",
    "df_ec_filtered[\"TT_pEmeEnJ+pEnJFlo\"] = df_ec[\"TT_pEmeEnJ\"]+df_ec[\"TT_pEnJFlo\"]\n",
    "df_ec_filtered[\"TT_pFloFla+pFlaFlw\"] = df_ec[\"TT_pFloFla\"]+df_ec[\"TT_pFlaFlw\"]\n",
    "df_ec_filtered[\"TT_pFlwStG\"] = df_ec[\"TT_pFlwStG\"]\n",
    "df_ec_filtered[\"TT_pStGEnG\"] = df_ec[\"TT_pStGEnG\"]\n",
    "\n",
    "df_ec_filtered[\"yield_pFloFla+pFlaFlw\"] = df_ec[\"yield_pFloFla\"]+df_ec[\"yield_pFlaFlw\"]\n",
    "df_ec_filtered[\"yield_pFlwStG\"] = df_ec[\"yield_pFlwStG\"]\n",
    "df_ec_filtered[\"yield_pStGEnG\"] = df_ec[\"yield_pStGEnG\"]\n",
    "\n",
    "df_ec_filtered[\"Eo_pFloFla+pFlaFlw\"] = df_ec[\"Eo_pFloFla\"]+df_ec[\"Eo_pFlaFlw\"]\n",
    "df_ec_filtered[\"Eo_pFlwStG\"] = df_ec[\"Eo_pFlwStG\"]\n",
    "df_ec_filtered[\"Eo_pStGEnG\"] = df_ec[\"Eo_pStGEnG\"]\n",
    "\n",
    "df_ec_filtered[\"ESW_pFloFla+pFlaFlw\"] = df_ec[\"ESW_pFloFla\"]+df_ec[\"ESW_pFlaFlw\"]\n",
    "df_ec_filtered[\"ESW_pFlwStG\"] = df_ec[\"ESW_pFlwStG\"]\n",
    "df_ec_filtered[\"ESW_pStGEnG\"] = df_ec[\"ESW_pStGEnG\"]\n",
    "\n",
    "df_ec_filtered[\"FlowNO3_pFloFla+pFlaFlw\"] = df_ec[\"FlowNO3_pFloFla\"]+df_ec[\"FlowNO3_pFlaFlw\"]\n",
    "df_ec_filtered[\"FlowNO3_pFlwStG\"] = df_ec[\"FlowNO3_pFlwStG\"]\n",
    "\n",
    "df_ec_filtered[\"PAWmm_pFloFla+pFlaFlw\"] = df_ec[\"PAWmm_pFloFla\"]+df_ec[\"PAWmm_pFlaFlw\"]\n",
    "df_ec_filtered[\"PAWmm_pFlwStG\"] = df_ec[\"PAWmm_pFlwStG\"]\n",
    "df_ec_filtered[\"PAWmm_pStGEnG\"] = df_ec[\"PAWmm_pStGEnG\"]\n",
    "\n",
    "df_ec_filtered[\"LAI_pEmeEnJ+pEnJFlo\"] = df_ec[\"LAI_pEmeEnJ\"]+df_ec[\"LAI_pEnJFlo\"]\n",
    "df_ec_filtered[\"LAI_pFloFla+pFlaFlw\"] = df_ec[\"LAI_pFloFla\"]+df_ec[\"LAI_pFlaFlw\"]\n",
    "\n",
    "df_ec_filtered[\"AccumulatedTT_pGerEme\"] = df_ec[\"AccumulatedTT_pGerEme\"]\n",
    "df_ec_filtered[\"AccumulatedTT_pEmeEnJ+pEnJFlo\"] = df_ec[\"AccumulatedTT_pEmeEnJ\"]+df_ec[\"AccumulatedTT_pEnJFlo\"]\n",
    "df_ec_filtered[\"AccumulatedTT_pFloFla+pFlaFlw\"] = df_ec[\"AccumulatedTT_pFloFla\"]+df_ec[\"AccumulatedTT_pFlaFlw\"]\n",
    "df_ec_filtered[\"AccumulatedTT_pFlwStG\"] = df_ec[\"AccumulatedTT_pFlwStG\"]\n",
    "df_ec_filtered[\"AccumulatedTT_pStGEnG\"] = df_ec[\"AccumulatedTT_pStGEnG\"]\n",
    "\n",
    "df_ec_filtered.shape"
   ]
  },
  {
   "cell_type": "code",
   "execution_count": 85,
   "metadata": {},
   "outputs": [],
   "source": [
    "df_ec_filtered.to_csv(\"./6_ec_cleaned.csv\", index=False)"
   ]
  },
  {
   "cell_type": "code",
   "execution_count": null,
   "metadata": {},
   "outputs": [],
   "source": []
  },
  {
   "cell_type": "markdown",
   "metadata": {},
   "source": [
    "# test"
   ]
  },
  {
   "cell_type": "markdown",
   "metadata": {},
   "source": [
    "### test trait"
   ]
  },
  {
   "cell_type": "code",
   "execution_count": 125,
   "metadata": {},
   "outputs": [],
   "source": [
    "df_trait_test = pd.read_csv(\"./1_Submission_Template_2022.csv\")"
   ]
  },
  {
   "cell_type": "code",
   "execution_count": 127,
   "metadata": {},
   "outputs": [],
   "source": [
    "df_trait_test[\"Hybrid_Parent1\"] = df_trait_test[\"Hybrid\"].map(lambda s: s.split('/')[0])\n",
    "df_trait_test[\"Hybrid_Parent2\"] = df_trait_test[\"Hybrid\"].map(lambda s: s.split('/')[1])"
   ]
  },
  {
   "cell_type": "code",
   "execution_count": 128,
   "metadata": {},
   "outputs": [],
   "source": [
    "df_trait_test.to_csv(\"./1_test_trait_cleaned.csv\", index=False)"
   ]
  },
  {
   "cell_type": "markdown",
   "metadata": {},
   "source": [
    "### test meta"
   ]
  },
  {
   "cell_type": "code",
   "execution_count": 176,
   "metadata": {},
   "outputs": [
    {
     "data": {
      "text/html": [
       "<div>\n",
       "<style scoped>\n",
       "    .dataframe tbody tr th:only-of-type {\n",
       "        vertical-align: middle;\n",
       "    }\n",
       "\n",
       "    .dataframe tbody tr th {\n",
       "        vertical-align: top;\n",
       "    }\n",
       "\n",
       "    .dataframe thead th {\n",
       "        text-align: right;\n",
       "    }\n",
       "</style>\n",
       "<table border=\"1\" class=\"dataframe\">\n",
       "  <thead>\n",
       "    <tr style=\"text-align: right;\">\n",
       "      <th></th>\n",
       "      <th>ï»¿Year</th>\n",
       "      <th>Env</th>\n",
       "      <th>Experiment_Code</th>\n",
       "      <th>Treatment</th>\n",
       "      <th>City</th>\n",
       "      <th>Farm</th>\n",
       "      <th>Field</th>\n",
       "      <th>Trial_ID (Assigned by collaborator for internal reference)</th>\n",
       "      <th>Soil_Taxonomic_ID and horizon description, if known</th>\n",
       "      <th>Weather_Station_Serial_Number (Last four digits, e.g. m2700s#####)</th>\n",
       "      <th>...</th>\n",
       "      <th>Issue/comment_#2</th>\n",
       "      <th>Issue/comment_#3</th>\n",
       "      <th>Issue/comment_#4</th>\n",
       "      <th>Issue/comment_#5</th>\n",
       "      <th>Issue/comment_#6</th>\n",
       "      <th>Irrigated</th>\n",
       "      <th>Date_Planted</th>\n",
       "      <th>Plot_Area_ha</th>\n",
       "      <th>Comments</th>\n",
       "      <th>Comments2</th>\n",
       "    </tr>\n",
       "  </thead>\n",
       "  <tbody>\n",
       "    <tr>\n",
       "      <th>0</th>\n",
       "      <td>2022</td>\n",
       "      <td>DEH1_2022</td>\n",
       "      <td>DEH1</td>\n",
       "      <td>Standard</td>\n",
       "      <td>Georgetown</td>\n",
       "      <td>Caraval Research &amp; Education Center</td>\n",
       "      <td>19 AB</td>\n",
       "      <td>NaN</td>\n",
       "      <td>NaN</td>\n",
       "      <td>22053.0</td>\n",
       "      <td>...</td>\n",
       "      <td>Link to additional weather source available on...</td>\n",
       "      <td>NaN</td>\n",
       "      <td>NaN</td>\n",
       "      <td>NaN</td>\n",
       "      <td>NaN</td>\n",
       "      <td>yes</td>\n",
       "      <td>25/04/2022</td>\n",
       "      <td>0,000696773</td>\n",
       "      <td>NaN</td>\n",
       "      <td>NaN</td>\n",
       "    </tr>\n",
       "  </tbody>\n",
       "</table>\n",
       "<p>1 rows × 41 columns</p>\n",
       "</div>"
      ],
      "text/plain": [
       "   ï»¿Year        Env Experiment_Code Treatment        City  \\\n",
       "0     2022  DEH1_2022            DEH1  Standard  Georgetown   \n",
       "\n",
       "                                  Farm  Field  \\\n",
       "0  Caraval Research & Education Center  19 AB   \n",
       "\n",
       "  Trial_ID (Assigned by collaborator for internal reference)  \\\n",
       "0                                                NaN           \n",
       "\n",
       "  Soil_Taxonomic_ID and horizon description, if known  \\\n",
       "0                                                NaN    \n",
       "\n",
       "   Weather_Station_Serial_Number (Last four digits, e.g. m2700s#####)  ...  \\\n",
       "0                                            22053.0                   ...   \n",
       "\n",
       "                                    Issue/comment_#2 Issue/comment_#3  \\\n",
       "0  Link to additional weather source available on...              NaN   \n",
       "\n",
       "  Issue/comment_#4 Issue/comment_#5 Issue/comment_#6 Irrigated Date_Planted  \\\n",
       "0              NaN              NaN              NaN       yes   25/04/2022   \n",
       "\n",
       "  Plot_Area_ha Comments Comments2  \n",
       "0  0,000696773      NaN       NaN  \n",
       "\n",
       "[1 rows x 41 columns]"
      ]
     },
     "execution_count": 176,
     "metadata": {},
     "output_type": "execute_result"
    }
   ],
   "source": [
    "df_meta_test = pd.read_csv(\"./2_Testing_Meta_Data_2022_last_phil.csv\", encoding = \"ISO-8859-1\", sep=';')\n",
    "df_meta_test.iloc[:1]"
   ]
  },
  {
   "cell_type": "code",
   "execution_count": 181,
   "metadata": {},
   "outputs": [],
   "source": [
    "def date_to_iso(s):\n",
    "    day, month, year = s.split('/')\n",
    "    return f\"{year}-{month}-{day}\"\n",
    "df_meta_test[\"Date_Planted\"] = df_meta_test[\"Date_Planted\"].map(date_to_iso)"
   ]
  },
  {
   "cell_type": "code",
   "execution_count": 183,
   "metadata": {},
   "outputs": [],
   "source": [
    "df_meta_test[\"Date_Planted\"] = pd.to_datetime(df_meta_test[\"Date_Planted\"]).map(lambda t: t.dayofyear)"
   ]
  },
  {
   "cell_type": "code",
   "execution_count": 184,
   "metadata": {},
   "outputs": [],
   "source": [
    "df_meta_test = df_meta_test.rename({'ï»¿Year': 'Year'}, axis=1)"
   ]
  },
  {
   "cell_type": "code",
   "execution_count": 185,
   "metadata": {},
   "outputs": [],
   "source": [
    "meta_cols = [\n",
    "    \"Env\",\n",
    "    \"Year\",\n",
    "    \"Previous_Crop\",\n",
    "    \"City\",\n",
    "    \"Treatment\",\n",
    "    \"Date_Planted\",\n",
    "#     \"Pre-plant_tillage_method(s)\",\n",
    "#     \"Irrigated\",\n",
    "]"
   ]
  },
  {
   "cell_type": "code",
   "execution_count": 186,
   "metadata": {},
   "outputs": [],
   "source": [
    "df_meta_test[meta_cols].isna().sum()\n",
    "df_meta_test[\"Previous_Crop\"] = df_meta_test[\"Previous_Crop\"].fillna(\"soybean\")\n",
    "df_meta_test[\"City\"] = df_meta_test[\"City\"].fillna(\"unknown\")"
   ]
  },
  {
   "cell_type": "code",
   "execution_count": 187,
   "metadata": {},
   "outputs": [
    {
     "data": {
      "text/plain": [
       "Env              0\n",
       "Year             0\n",
       "Previous_Crop    0\n",
       "City             0\n",
       "Treatment        0\n",
       "Date_Planted     0\n",
       "dtype: int64"
      ]
     },
     "execution_count": 187,
     "metadata": {},
     "output_type": "execute_result"
    }
   ],
   "source": [
    "df_meta_test[meta_cols].isna().sum()"
   ]
  },
  {
   "cell_type": "code",
   "execution_count": 207,
   "metadata": {},
   "outputs": [
    {
     "data": {
      "text/plain": [
       "(26, 41)"
      ]
     },
     "execution_count": 207,
     "metadata": {},
     "output_type": "execute_result"
    }
   ],
   "source": [
    "df_meta_test.shape"
   ]
  },
  {
   "cell_type": "code",
   "execution_count": 188,
   "metadata": {},
   "outputs": [],
   "source": [
    "df_meta_test[meta_cols].to_csv(\"./2_test_meta_cleaned.csv\", index=False)"
   ]
  },
  {
   "cell_type": "markdown",
   "metadata": {},
   "source": [
    "### test soil"
   ]
  },
  {
   "cell_type": "code",
   "execution_count": 214,
   "metadata": {},
   "outputs": [
    {
     "data": {
      "text/html": [
       "<div>\n",
       "<style scoped>\n",
       "    .dataframe tbody tr th:only-of-type {\n",
       "        vertical-align: middle;\n",
       "    }\n",
       "\n",
       "    .dataframe tbody tr th {\n",
       "        vertical-align: top;\n",
       "    }\n",
       "\n",
       "    .dataframe thead th {\n",
       "        text-align: right;\n",
       "    }\n",
       "</style>\n",
       "<table border=\"1\" class=\"dataframe\">\n",
       "  <thead>\n",
       "    <tr style=\"text-align: right;\">\n",
       "      <th></th>\n",
       "      <th>Year</th>\n",
       "      <th>Env</th>\n",
       "      <th>LabID</th>\n",
       "      <th>Date Received</th>\n",
       "      <th>Date Reported</th>\n",
       "      <th>E Depth</th>\n",
       "      <th>1:1 Soil pH</th>\n",
       "      <th>WDRF Buffer pH</th>\n",
       "      <th>1:1 S Salts mmho/cm</th>\n",
       "      <th>Texture No</th>\n",
       "      <th>Organic Matter LOI %</th>\n",
       "      <th>Nitrate-N ppm N</th>\n",
       "      <th>lbs N/A</th>\n",
       "      <th>Potassium ppm K</th>\n",
       "      <th>Sulfate-S ppm S</th>\n",
       "      <th>Calcium ppm Ca</th>\n",
       "      <th>Magnesium ppm Mg</th>\n",
       "      <th>Sodium ppm Na</th>\n",
       "      <th>CEC/Sum of Cations me/100g</th>\n",
       "      <th>%H Sat</th>\n",
       "      <th>%K Sat</th>\n",
       "      <th>%Ca Sat</th>\n",
       "      <th>%Mg Sat</th>\n",
       "      <th>%Na Sat</th>\n",
       "      <th>Mehlich P-III ppm P</th>\n",
       "      <th>% Sand</th>\n",
       "      <th>% Silt</th>\n",
       "      <th>% Clay</th>\n",
       "      <th>Texture</th>\n",
       "      <th>Comments</th>\n",
       "    </tr>\n",
       "  </thead>\n",
       "  <tbody>\n",
       "    <tr>\n",
       "      <th>0</th>\n",
       "      <td>2022</td>\n",
       "      <td>DEH1_2022</td>\n",
       "      <td>Ward Laboratories Inc</td>\n",
       "      <td>8/18/2022</td>\n",
       "      <td>8/22/2022</td>\n",
       "      <td>8</td>\n",
       "      <td>6.6</td>\n",
       "      <td>7.2</td>\n",
       "      <td>0.21</td>\n",
       "      <td>2.0</td>\n",
       "      <td>1.2</td>\n",
       "      <td>32.5</td>\n",
       "      <td>78</td>\n",
       "      <td>136</td>\n",
       "      <td>16.7</td>\n",
       "      <td>478</td>\n",
       "      <td>79</td>\n",
       "      <td>13</td>\n",
       "      <td>3.5</td>\n",
       "      <td>0</td>\n",
       "      <td>10</td>\n",
       "      <td>69</td>\n",
       "      <td>19</td>\n",
       "      <td>2</td>\n",
       "      <td>75</td>\n",
       "      <td>74.0</td>\n",
       "      <td>15.0</td>\n",
       "      <td>11.0</td>\n",
       "      <td>Sandy Loam</td>\n",
       "      <td>NaN</td>\n",
       "    </tr>\n",
       "    <tr>\n",
       "      <th>1</th>\n",
       "      <td>2022</td>\n",
       "      <td>GAH1_2022</td>\n",
       "      <td>Ward Laboratories Inc</td>\n",
       "      <td>5/12/2022</td>\n",
       "      <td>5/16/2022</td>\n",
       "      <td>12</td>\n",
       "      <td>6.2</td>\n",
       "      <td>6.9</td>\n",
       "      <td>0.52</td>\n",
       "      <td>2.0</td>\n",
       "      <td>0.9</td>\n",
       "      <td>29.6</td>\n",
       "      <td>107</td>\n",
       "      <td>236</td>\n",
       "      <td>54.3</td>\n",
       "      <td>430</td>\n",
       "      <td>78</td>\n",
       "      <td>8</td>\n",
       "      <td>4.8</td>\n",
       "      <td>29</td>\n",
       "      <td>13</td>\n",
       "      <td>44</td>\n",
       "      <td>13</td>\n",
       "      <td>1</td>\n",
       "      <td>137</td>\n",
       "      <td>83.0</td>\n",
       "      <td>10.0</td>\n",
       "      <td>7.0</td>\n",
       "      <td>Loamy Sand</td>\n",
       "      <td>NaN</td>\n",
       "    </tr>\n",
       "    <tr>\n",
       "      <th>2</th>\n",
       "      <td>2022</td>\n",
       "      <td>GAH2_2022</td>\n",
       "      <td>Ward Laboratories Inc</td>\n",
       "      <td>4/26/2022</td>\n",
       "      <td>4/28/2022</td>\n",
       "      <td>12</td>\n",
       "      <td>6.1</td>\n",
       "      <td>6.7</td>\n",
       "      <td>0.23</td>\n",
       "      <td>2.0</td>\n",
       "      <td>2.6</td>\n",
       "      <td>18.9</td>\n",
       "      <td>68</td>\n",
       "      <td>149</td>\n",
       "      <td>8.1</td>\n",
       "      <td>565</td>\n",
       "      <td>94</td>\n",
       "      <td>10</td>\n",
       "      <td>7.3</td>\n",
       "      <td>45</td>\n",
       "      <td>5</td>\n",
       "      <td>38</td>\n",
       "      <td>11</td>\n",
       "      <td>1</td>\n",
       "      <td>45</td>\n",
       "      <td>63.0</td>\n",
       "      <td>16.0</td>\n",
       "      <td>21.0</td>\n",
       "      <td>Sandy Clay Loam</td>\n",
       "      <td>NaN</td>\n",
       "    </tr>\n",
       "    <tr>\n",
       "      <th>3</th>\n",
       "      <td>2022</td>\n",
       "      <td>IAH1_2022</td>\n",
       "      <td>Ward Laboratories Inc</td>\n",
       "      <td>6/24/2022</td>\n",
       "      <td>6/28/2022</td>\n",
       "      <td>8</td>\n",
       "      <td>6.2</td>\n",
       "      <td>6.6</td>\n",
       "      <td>0.36</td>\n",
       "      <td>2.0</td>\n",
       "      <td>4.9</td>\n",
       "      <td>36.7</td>\n",
       "      <td>88</td>\n",
       "      <td>197</td>\n",
       "      <td>8.0</td>\n",
       "      <td>2939</td>\n",
       "      <td>706</td>\n",
       "      <td>10</td>\n",
       "      <td>24.7</td>\n",
       "      <td>15</td>\n",
       "      <td>2</td>\n",
       "      <td>59</td>\n",
       "      <td>24</td>\n",
       "      <td>0</td>\n",
       "      <td>51</td>\n",
       "      <td>16.0</td>\n",
       "      <td>45.0</td>\n",
       "      <td>39.0</td>\n",
       "      <td>Silty Clay Loam</td>\n",
       "      <td>NaN</td>\n",
       "    </tr>\n",
       "    <tr>\n",
       "      <th>4</th>\n",
       "      <td>2022</td>\n",
       "      <td>IAH2_2022</td>\n",
       "      <td>Ward Laboratories Inc</td>\n",
       "      <td>6/24/2022</td>\n",
       "      <td>6/28/2022</td>\n",
       "      <td>8</td>\n",
       "      <td>5.9</td>\n",
       "      <td>6.4</td>\n",
       "      <td>0.17</td>\n",
       "      <td>2.0</td>\n",
       "      <td>3.9</td>\n",
       "      <td>12.5</td>\n",
       "      <td>30</td>\n",
       "      <td>196</td>\n",
       "      <td>11.2</td>\n",
       "      <td>2069</td>\n",
       "      <td>283</td>\n",
       "      <td>8</td>\n",
       "      <td>18.9</td>\n",
       "      <td>30</td>\n",
       "      <td>3</td>\n",
       "      <td>55</td>\n",
       "      <td>12</td>\n",
       "      <td>0</td>\n",
       "      <td>59</td>\n",
       "      <td>44.0</td>\n",
       "      <td>29.0</td>\n",
       "      <td>27.0</td>\n",
       "      <td>Loam</td>\n",
       "      <td>NaN</td>\n",
       "    </tr>\n",
       "  </tbody>\n",
       "</table>\n",
       "</div>"
      ],
      "text/plain": [
       "   Year        Env                  LabID Date Received Date Reported  \\\n",
       "0  2022  DEH1_2022  Ward Laboratories Inc     8/18/2022     8/22/2022   \n",
       "1  2022  GAH1_2022  Ward Laboratories Inc     5/12/2022     5/16/2022   \n",
       "2  2022  GAH2_2022  Ward Laboratories Inc     4/26/2022     4/28/2022   \n",
       "3  2022  IAH1_2022  Ward Laboratories Inc     6/24/2022     6/28/2022   \n",
       "4  2022  IAH2_2022  Ward Laboratories Inc     6/24/2022     6/28/2022   \n",
       "\n",
       "   E Depth  1:1 Soil pH  WDRF Buffer pH  1:1 S Salts mmho/cm  Texture No  \\\n",
       "0        8          6.6             7.2                 0.21         2.0   \n",
       "1       12          6.2             6.9                 0.52         2.0   \n",
       "2       12          6.1             6.7                 0.23         2.0   \n",
       "3        8          6.2             6.6                 0.36         2.0   \n",
       "4        8          5.9             6.4                 0.17         2.0   \n",
       "\n",
       "   Organic Matter LOI %  Nitrate-N ppm N  lbs N/A  Potassium ppm K  \\\n",
       "0                   1.2             32.5       78              136   \n",
       "1                   0.9             29.6      107              236   \n",
       "2                   2.6             18.9       68              149   \n",
       "3                   4.9             36.7       88              197   \n",
       "4                   3.9             12.5       30              196   \n",
       "\n",
       "   Sulfate-S ppm S  Calcium ppm Ca  Magnesium ppm Mg  Sodium ppm Na  \\\n",
       "0             16.7             478                79             13   \n",
       "1             54.3             430                78              8   \n",
       "2              8.1             565                94             10   \n",
       "3              8.0            2939               706             10   \n",
       "4             11.2            2069               283              8   \n",
       "\n",
       "   CEC/Sum of Cations me/100g  %H Sat  %K Sat  %Ca Sat  %Mg Sat  %Na Sat  \\\n",
       "0                         3.5       0      10       69       19        2   \n",
       "1                         4.8      29      13       44       13        1   \n",
       "2                         7.3      45       5       38       11        1   \n",
       "3                        24.7      15       2       59       24        0   \n",
       "4                        18.9      30       3       55       12        0   \n",
       "\n",
       "   Mehlich P-III ppm P  % Sand  % Silt  % Clay          Texture  Comments  \n",
       "0                   75    74.0    15.0    11.0       Sandy Loam       NaN  \n",
       "1                  137    83.0    10.0     7.0       Loamy Sand       NaN  \n",
       "2                   45    63.0    16.0    21.0  Sandy Clay Loam       NaN  \n",
       "3                   51    16.0    45.0    39.0  Silty Clay Loam       NaN  \n",
       "4                   59    44.0    29.0    27.0             Loam       NaN  "
      ]
     },
     "metadata": {},
     "output_type": "display_data"
    }
   ],
   "source": [
    "df_soil_test = pd.read_csv(\"./3_Testing_Soil_Data_2022.csv\")\n",
    "with pd.option_context(\"display.max_columns\", None):\n",
    "    display(df_soil_test.head())"
   ]
  },
  {
   "cell_type": "code",
   "execution_count": 215,
   "metadata": {},
   "outputs": [
    {
     "data": {
      "text/plain": [
       "Year                          0\n",
       "Env                           0\n",
       "LabID                         5\n",
       "Date Received                 5\n",
       "Date Reported                 5\n",
       "E Depth                       5\n",
       "1:1 Soil pH                   5\n",
       "WDRF Buffer pH                5\n",
       "1:1 S Salts mmho/cm           5\n",
       "Texture No                    6\n",
       "Organic Matter LOI %          5\n",
       "Nitrate-N ppm N               5\n",
       "lbs N/A                       5\n",
       "Potassium ppm K               5\n",
       "Sulfate-S ppm S               5\n",
       "Calcium ppm Ca                5\n",
       "Magnesium ppm Mg              5\n",
       "Sodium ppm Na                 5\n",
       "CEC/Sum of Cations me/100g    5\n",
       "%H Sat                        5\n",
       "%K Sat                        5\n",
       "%Ca Sat                       5\n",
       "%Mg Sat                       5\n",
       "dtype: int64"
      ]
     },
     "execution_count": 215,
     "metadata": {},
     "output_type": "execute_result"
    }
   ],
   "source": [
    "df_soil_test = df_soil_test.merge(df_trait_test[\"Env\"].drop_duplicates(), on=\"Env\", how=\"outer\")\n",
    "df_soil_test[\"Year\"] = df_soil_test[\"Env\"].map(lambda s: int(s.split('_')[-1]))\n",
    "soil_cols = [\n",
    "    'Year',\n",
    "    'Env',\n",
    "    'E Depth',\n",
    "    '1:1 Soil pH',\n",
    "    'WDRF Buffer pH',\n",
    "    '1:1 S Salts mmho/cm',\n",
    "    'Texture No',\n",
    "    'Organic Matter LOI %',\n",
    "    'Nitrate-N ppm N',\n",
    "    'lbs N/A',\n",
    "    'Potassium ppm K',\n",
    "    'Sulfate-S ppm S',\n",
    "    'Calcium ppm Ca',\n",
    "    'Magnesium ppm Mg',\n",
    "    'Sodium ppm Na',\n",
    "    'CEC/Sum of Cations me/100g',\n",
    "    '%H Sat',\n",
    "    '%K Sat',\n",
    "    '%Ca Sat',\n",
    "    '%Mg Sat',\n",
    "    '%Na Sat',\n",
    "    'Mehlich P-III ppm P',\n",
    "    '% Sand',\n",
    "    '% Silt',\n",
    "    '% Clay',\n",
    "    'Texture',\n",
    "]\n",
    "df_soil_test[\"Env_pure\"] = df_soil_test[\"Env\"].map(lambda s: s.split('_')[0])\n",
    "df_soil_test.iloc[:, :-8].isna().sum(axis=0)"
   ]
  },
  {
   "cell_type": "code",
   "execution_count": 216,
   "metadata": {
    "scrolled": true
   },
   "outputs": [
    {
     "data": {
      "text/plain": [
       "MIH1    0\n",
       "ILH1    0\n",
       "MNH1    0\n",
       "NCH1    0\n",
       "NEH2    0\n",
       "NEH3    0\n",
       "Name: Env_pure, dtype: int64"
      ]
     },
     "execution_count": 216,
     "metadata": {},
     "output_type": "execute_result"
    }
   ],
   "source": [
    "# NB\n",
    "env_na_counts = df_soil_test[\"Env_pure\"].value_counts()[df_soil_test.loc[df_soil_test.iloc[:, :-8].isna().any(axis=1)][\"Env_pure\"].value_counts().index] - df_soil_test.loc[df_soil_test.iloc[:, :-8].isna().any(axis=1)][\"Env_pure\"].value_counts()\n",
    "env_na_counts"
   ]
  },
  {
   "cell_type": "code",
   "execution_count": 217,
   "metadata": {},
   "outputs": [
    {
     "data": {
      "text/plain": [
       "2616"
      ]
     },
     "execution_count": 217,
     "metadata": {},
     "output_type": "execute_result"
    }
   ],
   "source": [
    "zero_envs = set(env_na_counts[env_na_counts == 0].index)\n",
    "df_trait_test[\"Env\"].map(lambda s: s.split('_')[0] in zero_envs).sum()"
   ]
  },
  {
   "cell_type": "code",
   "execution_count": 218,
   "metadata": {},
   "outputs": [],
   "source": [
    "df_soil = pd.read_csv(\"./3_soil_cleaned.csv\")\n",
    "df_soil[\"Env_pure\"] = df_soil[\"Env\"].map(lambda s: s.split('_')[0])"
   ]
  },
  {
   "cell_type": "code",
   "execution_count": 219,
   "metadata": {},
   "outputs": [],
   "source": [
    "medians = pd.concat([df_soil, df_soil_test], axis=0).groupby(\"Env_pure\")[soil_cols[2:-1]].median()\n",
    "medians[\"Texture\"] = df_soil_test.groupby(\"Env_pure\").apply(\n",
    "    lambda df: df[\"Texture\"].value_counts().index[0] if not df[\"Texture\"].isna().all() else np.nan\n",
    ")"
   ]
  },
  {
   "cell_type": "code",
   "execution_count": 220,
   "metadata": {},
   "outputs": [],
   "source": [
    "for colname in soil_cols[2:]:\n",
    "    df_soil_test[colname] = df_soil_test.apply(\n",
    "        lambda row: row[colname] if (isinstance(row[colname], str) or not np.isnan(row[colname])) else medians.loc[row[\"Env_pure\"], colname],\n",
    "        axis=1\n",
    "    )"
   ]
  },
  {
   "cell_type": "code",
   "execution_count": 221,
   "metadata": {},
   "outputs": [],
   "source": [
    "df_soil_test[\"Texture\"] = df_soil_test[\"Texture\"].fillna(df_soil[\"Texture\"].value_counts().index[0])\n",
    "df_soil_test[soil_cols].to_csv(\"./3_test_soil_cleaned.csv\", index=False)"
   ]
  },
  {
   "cell_type": "markdown",
   "metadata": {},
   "source": [
    "### test weather"
   ]
  },
  {
   "cell_type": "code",
   "execution_count": 254,
   "metadata": {},
   "outputs": [
    {
     "data": {
      "image/png": "[encoded data removed]",
      "text/plain": [
       "<Figure size 720x288 with 1 Axes>"
      ]
     },
     "metadata": {
      "needs_background": "light"
     },
     "output_type": "display_data"
    }
   ],
   "source": [
    "df_weather_test = pd.read_csv(\"./4_Testing_Weather_Data_2022.csv\")\n",
    "df_weather_test[\"Date\"] = pd.to_datetime(df_weather_test[\"Date\"].astype(str)).map(lambda s: s.dayofyear)\n",
    "env_to_planting_date = df_meta_test.groupby(\"Env\")[\"Date_Planted\"].min()\n",
    "df_weather_test[\"Date_Planted\"] = df_weather_test[\"Env\"].map(env_to_planting_date)\n",
    "df_weather_test[\"Days_from_planting\"] = df_weather_test[\"Date\"] - df_weather_test[\"Date_Planted\"]\n",
    "df_weather_test[\"Date_Harvested\"] = df_weather_test[\"Date_Planted\"] + 170\n",
    "plt.figure(figsize=(10, 4))\n",
    "plt.hist(df_weather_test.loc[(df_weather_test[\"Days_from_planting\"] >= 0) & (df_weather_test[\"Date\"] < df_weather_test[\"Date_Harvested\"])].\\\n",
    "    groupby(\"Env\")[\"Days_from_planting\"].max(), bins=40)\n",
    "plt.show()"
   ]
  },
  {
   "cell_type": "code",
   "execution_count": 255,
   "metadata": {},
   "outputs": [],
   "source": [
    "df_weather_test = df_weather_test.loc[\n",
    "    (df_weather_test[\"Days_from_planting\"] >= 0) & \\\n",
    "    (df_weather_test[\"Date\"] < df_weather_test[\"Date_Harvested\"])\n",
    "].reset_index(drop=True)\n",
    "df_weather_test[\"VPD\"] = \\\n",
    "    610.78 * np.e**(df_weather_test[f\"T2M\"] / (df_weather_test[f\"T2M\"] + 237.3) * 17.2694)*(1 - df_weather_test[\"RH2M\"]/100) / 1000\n",
    "df_weather_test_averaged = df_weather_test.groupby(\"Env\").apply(lambda df: average_by_periods(\n",
    "    df,\n",
    "    columns=list(set(df_weather_test.columns) - {'Env', 'Date', 'Date_Planted', 'Date_Harvested', 'df_weather_test.columns'}),\n",
    "    n_periods=5,\n",
    ")).reset_index()\n",
    "df_weather_test_averaged[\"Year\"] = df_weather_test_averaged[\"Env\"].map(lambda s: int(s.split('_')[-1]))\n"
   ]
  },
  {
   "cell_type": "code",
   "execution_count": 256,
   "metadata": {},
   "outputs": [],
   "source": [
    "df_weather_test_averaged = (df_weather_test_averaged[[\"Env\", \"Year\"] + sorted(df_weather_test_averaged.columns[1:-1])]).copy()"
   ]
  },
  {
   "cell_type": "code",
   "execution_count": 257,
   "metadata": {},
   "outputs": [
    {
     "data": {
      "text/plain": [
       "1    7\n",
       "3    6\n",
       "0    4\n",
       "7    3\n",
       "2    2\n",
       "4    2\n",
       "5    1\n",
       "6    1\n",
       "dtype: int64"
      ]
     },
     "execution_count": 257,
     "metadata": {},
     "output_type": "execute_result"
    }
   ],
   "source": [
    "scenarios = clusterer.predict(weather_scaler.transform(df_weather_test_averaged.iloc[:, 2:]))\n",
    "df_weather_test_averaged[\"scenario\"] = scenarios\n",
    "pd.Series(scenarios).value_counts()\n"
   ]
  },
  {
   "cell_type": "code",
   "execution_count": 259,
   "metadata": {},
   "outputs": [],
   "source": [
    "df_weather_test_averaged.to_csv(\"./4_test_weather_averaged.csv\", index=False)"
   ]
  },
  {
   "cell_type": "markdown",
   "metadata": {},
   "source": [
    "### test strain"
   ]
  },
  {
   "cell_type": "markdown",
   "metadata": {},
   "source": [
    "### test ec"
   ]
  },
  {
   "cell_type": "code",
   "execution_count": 200,
   "metadata": {},
   "outputs": [
    {
     "data": {
      "text/plain": [
       "0"
      ]
     },
     "execution_count": 200,
     "metadata": {},
     "output_type": "execute_result"
    }
   ],
   "source": [
    "df_ec_test = pd.read_csv(\"./6_Testing_EC_Data_2022.csv\")\n",
    "df_ec_test.isna().sum().max()"
   ]
  },
  {
   "cell_type": "code",
   "execution_count": 201,
   "metadata": {},
   "outputs": [],
   "source": [
    "df_ec_test[\"Year\"] = df_ec_test[\"Env\"].map(lambda s: int(s.split('_')[-1]))"
   ]
  },
  {
   "cell_type": "code",
   "execution_count": 202,
   "metadata": {},
   "outputs": [
    {
     "data": {
      "text/plain": [
       "(24, 33)"
      ]
     },
     "execution_count": 202,
     "metadata": {},
     "output_type": "execute_result"
    }
   ],
   "source": [
    "for growth_stage in growth_stages:\n",
    "    for feature in [\"SDR\", \"ESW\", \"Flow\", \"FlowNO3\", \"Flux\", \"PAWmm\", \"SWmm\"]:\n",
    "        try:\n",
    "            df_ec_test[f\"{feature}_{growth_stage}\"] = sum([\n",
    "                df_ec_test[f\"{feature}_{growth_stage}_{soil_layer}\"] for soil_layer in range(1, growth_stage_to_max_layer[growth_stage] + 1)\n",
    "            ])\n",
    "        except KeyError:\n",
    "            pass\n",
    "df_ec_test_filtered = pd.DataFrame()\n",
    "\n",
    "df_ec_test_filtered[\"Env\"] = df_ec_test[\"Env\"]\n",
    "df_ec_test_filtered[\"Year\"] = df_ec_test[\"Year\"]\n",
    "\n",
    "df_ec_test_filtered[\"SDR_pGerEme\"] = df_ec_test[\"SDR_pGerEme\"]\n",
    "df_ec_test_filtered[\"SDR_pEmeEnJ+pEnJFlo\"] = df_ec_test[\"SDR_pEmeEnJ\"]+df_ec_test[\"SDR_pEnJFlo\"]\n",
    "df_ec_test_filtered[\"SDR_pFloFla+pFlaFlw\"] = df_ec_test[\"SDR_pFloFla\"]+df_ec_test[\"SDR_pFlaFlw\"]\n",
    "df_ec_test_filtered[\"SDR_pFlwStG\"] = df_ec_test[\"SDR_pFlwStG\"]\n",
    "df_ec_test_filtered[\"SDR_pStGEnG\"] = df_ec_test[\"SDR_pStGEnG\"]\n",
    "\n",
    "df_ec_test_filtered[\"TT_pGerEme\"] = df_ec_test[\"TT_pGerEme\"]\n",
    "df_ec_test_filtered[\"TT_pEmeEnJ+pEnJFlo\"] = df_ec_test[\"TT_pEmeEnJ\"]+df_ec_test[\"TT_pEnJFlo\"]\n",
    "df_ec_test_filtered[\"TT_pFloFla+pFlaFlw\"] = df_ec_test[\"TT_pFloFla\"]+df_ec_test[\"TT_pFlaFlw\"]\n",
    "df_ec_test_filtered[\"TT_pFlwStG\"] = df_ec_test[\"TT_pFlwStG\"]\n",
    "df_ec_test_filtered[\"TT_pStGEnG\"] = df_ec_test[\"TT_pStGEnG\"]\n",
    "\n",
    "df_ec_test_filtered[\"yield_pFloFla+pFlaFlw\"] = df_ec_test[\"yield_pFloFla\"]+df_ec_test[\"yield_pFlaFlw\"]\n",
    "df_ec_test_filtered[\"yield_pFlwStG\"] = df_ec_test[\"yield_pFlwStG\"]\n",
    "df_ec_test_filtered[\"yield_pStGEnG\"] = df_ec_test[\"yield_pStGEnG\"]\n",
    "\n",
    "df_ec_test_filtered[\"Eo_pFloFla+pFlaFlw\"] = df_ec_test[\"Eo_pFloFla\"]+df_ec_test[\"Eo_pFlaFlw\"]\n",
    "df_ec_test_filtered[\"Eo_pFlwStG\"] = df_ec_test[\"Eo_pFlwStG\"]\n",
    "df_ec_test_filtered[\"Eo_pStGEnG\"] = df_ec_test[\"Eo_pStGEnG\"]\n",
    "\n",
    "df_ec_test_filtered[\"ESW_pFloFla+pFlaFlw\"] = df_ec_test[\"ESW_pFloFla\"]+df_ec_test[\"ESW_pFlaFlw\"]\n",
    "df_ec_test_filtered[\"ESW_pFlwStG\"] = df_ec_test[\"ESW_pFlwStG\"]\n",
    "df_ec_test_filtered[\"ESW_pStGEnG\"] = df_ec_test[\"ESW_pStGEnG\"]\n",
    "\n",
    "df_ec_test_filtered[\"FlowNO3_pFloFla+pFlaFlw\"] = df_ec_test[\"FlowNO3_pFloFla\"]+df_ec_test[\"FlowNO3_pFlaFlw\"]\n",
    "df_ec_test_filtered[\"FlowNO3_pFlwStG\"] = df_ec_test[\"FlowNO3_pFlwStG\"]\n",
    "\n",
    "df_ec_test_filtered[\"PAWmm_pFloFla+pFlaFlw\"] = df_ec_test[\"PAWmm_pFloFla\"]+df_ec_test[\"PAWmm_pFlaFlw\"]\n",
    "df_ec_test_filtered[\"PAWmm_pFlwStG\"] = df_ec_test[\"PAWmm_pFlwStG\"]\n",
    "df_ec_test_filtered[\"PAWmm_pStGEnG\"] = df_ec_test[\"PAWmm_pStGEnG\"]\n",
    "\n",
    "df_ec_test_filtered[\"LAI_pEmeEnJ+pEnJFlo\"] = df_ec_test[\"LAI_pEmeEnJ\"]+df_ec_test[\"LAI_pEnJFlo\"]\n",
    "df_ec_test_filtered[\"LAI_pFloFla+pFlaFlw\"] = df_ec_test[\"LAI_pFloFla\"]+df_ec_test[\"LAI_pFlaFlw\"]\n",
    "\n",
    "df_ec_test_filtered[\"AccumulatedTT_pGerEme\"] = df_ec_test[\"AccumulatedTT_pGerEme\"]\n",
    "df_ec_test_filtered[\"AccumulatedTT_pEmeEnJ+pEnJFlo\"] = df_ec_test[\"AccumulatedTT_pEmeEnJ\"]+df_ec_test[\"AccumulatedTT_pEnJFlo\"]\n",
    "df_ec_test_filtered[\"AccumulatedTT_pFloFla+pFlaFlw\"] = df_ec_test[\"AccumulatedTT_pFloFla\"]+df_ec_test[\"AccumulatedTT_pFlaFlw\"]\n",
    "df_ec_test_filtered[\"AccumulatedTT_pFlwStG\"] = df_ec_test[\"AccumulatedTT_pFlwStG\"]\n",
    "df_ec_test_filtered[\"AccumulatedTT_pStGEnG\"] = df_ec_test[\"AccumulatedTT_pStGEnG\"]\n",
    "\n",
    "df_ec_test_filtered.shape"
   ]
  },
  {
   "cell_type": "code",
   "execution_count": 203,
   "metadata": {},
   "outputs": [],
   "source": [
    "df_ec_test_filtered.to_csv(\"./6_test_ec_cleaned.csv\", index=False)"
   ]
  },
  {
   "cell_type": "code",
   "execution_count": null,
   "metadata": {},
   "outputs": [],
   "source": []
  },
  {
   "cell_type": "code",
   "execution_count": null,
   "metadata": {},
   "outputs": [],
   "source": []
  },
  {
   "cell_type": "code",
   "execution_count": null,
   "metadata": {},
   "outputs": [],
   "source": []
  },
  {
   "cell_type": "code",
   "execution_count": null,
   "metadata": {},
   "outputs": [],
   "source": []
  }
 ],
 "metadata": {
  "kernelspec": {
   "display_name": "Python 3 (ipykernel)",
   "language": "python",
   "name": "python3"
  },
  "language_info": {
   "codemirror_mode": {
    "name": "ipython",
    "version": 3
   },
   "file_extension": ".py",
   "mimetype": "text/x-python",
   "name": "python",
   "nbconvert_exporter": "python",
   "pygments_lexer": "ipython3",
   "version": "3.10.2"
  }
 },
 "nbformat": 4,
 "nbformat_minor": 2
}
